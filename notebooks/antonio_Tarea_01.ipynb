{
  "nbformat": 4,
  "nbformat_minor": 0,
  "metadata": {
    "colab": {
      "provenance": [],
      "include_colab_link": true
    },
    "kernelspec": {
      "name": "ir",
      "display_name": "R"
    },
    "language_info": {
      "name": "R"
    }
  },
  "cells": [
    {
      "cell_type": "markdown",
      "metadata": {
        "id": "view-in-github",
        "colab_type": "text"
      },
      "source": [
        "<a href=\"https://colab.research.google.com/github/javendaXgh/-datasciencecoursera/blob/master/notebooks/antonio_Tarea_01.ipynb\" target=\"_parent\"><img src=\"https://colab.research.google.com/assets/colab-badge.svg\" alt=\"Open In Colab\"/></a>"
      ]
    },
    {
      "cell_type": "markdown",
      "source": [],
      "metadata": {
        "id": "7Th9oGlNX2Q2"
      }
    },
    {
      "cell_type": "markdown",
      "source": [
        "# Indique su nombre y cédula\n",
        "## Nombre: antonio silva\n",
        "## Cédula: 27588842"
      ],
      "metadata": {
        "id": "34InJY_Dm0VI"
      }
    },
    {
      "cell_type": "markdown",
      "source": [
        "## Estadística I, Tarea 01\n",
        "A continuación hay una serie de ejercicios que debe completar. Algunos de los códigos ya están vaciados para que se facilite realizar estar tarea.\n",
        "\n",
        "Se recomienda para cada uno de los conjuntos de datos a trabajar, revise los datos que contienen, así como también usar las funciones de ayuda `?` obtener información sobre los mismos y de esta manera lograr facilitar la comprensión sobre los datos a trabajar."
      ],
      "metadata": {
        "id": "wTWvm2zmmzSQ"
      }
    },
    {
      "cell_type": "markdown",
      "source": [
        "#### Recomendaciones\n",
        "Usar funciones apropiadas para obtener los valores solicitados. Revise los ejercicios de codificación anteriormente presentados en el curso, las láminas, así como el libro Open Intro Stats. <br>\n",
        "\n",
        "Si realiza algún cálculo manualmente deberá añadir las celdas de código con tales cálculo, tantas como sea necesario.\n",
        "\n",
        "En cada una de las celdas de código, añada comentarios con el símbolo numeral (#) al inicio de la celda para indicar los procedimientos realizados.\n",
        "\n",
        "Recuerde cuidar la redacción y ortografía en la información que presente.\n",
        "\n",
        "En caso de tener alguna duda sobre los procedimientos a seguir, usar el grupo de whatsapp.\n",
        "\n",
        "Se recuerda que la terea debe ser realizada de forma individual."
      ],
      "metadata": {
        "id": "r1bD-Uq3WEo4"
      }
    },
    {
      "cell_type": "code",
      "source": [
        "# instalar y cargar paquetes con los que se trabajará. No modificar esta celda\n",
        "install.packages ('openintro')\n",
        "install.packages ('gtsummary')\n",
        "library ('openintro')\n",
        "library ('gtsummary')\n",
        "library ('dplyr')\n"
      ],
      "metadata": {
        "id": "xDhrUG1VYUmQ",
        "outputId": "f2bcb9f8-823b-494e-f150-f6c0aa8ae301",
        "colab": {
          "base_uri": "https://localhost:8080/"
        }
      },
      "execution_count": 3,
      "outputs": [
        {
          "output_type": "stream",
          "name": "stderr",
          "text": [
            "Installing package into ‘/usr/local/lib/R/site-library’\n",
            "(as ‘lib’ is unspecified)\n",
            "\n",
            "also installing the dependencies ‘airports’, ‘cherryblossom’, ‘usdata’\n",
            "\n",
            "\n",
            "Installing package into ‘/usr/local/lib/R/site-library’\n",
            "(as ‘lib’ is unspecified)\n",
            "\n",
            "also installing the dependencies ‘V8’, ‘litedown’, ‘reactR’, ‘bigD’, ‘bitops’, ‘juicyjuice’, ‘markdown’, ‘reactable’, ‘cards’, ‘gt’\n",
            "\n",
            "\n",
            "Loading required package: airports\n",
            "\n",
            "Loading required package: cherryblossom\n",
            "\n",
            "Loading required package: usdata\n",
            "\n",
            "\n",
            "Attaching package: ‘dplyr’\n",
            "\n",
            "\n",
            "The following objects are masked from ‘package:stats’:\n",
            "\n",
            "    filter, lag\n",
            "\n",
            "\n",
            "The following objects are masked from ‘package:base’:\n",
            "\n",
            "    intersect, setdiff, setequal, union\n",
            "\n",
            "\n"
          ]
        }
      ]
    },
    {
      "cell_type": "markdown",
      "source": [
        "## 1) Tratamiento de tumores con etanol\n",
        "\n",
        "\n",
        "### Nombre del conjunto de datos\n",
        "ethanol\n",
        "\n",
        "### Descripción\n",
        "Experimento en el que se probaron 3 tratamientos diferentes de etanol para el tratamiento de tumores de cáncer oral en hámsters.\n",
        "\n",
        "La columna \"regress\" especifica si el tratamiento tuvo efecto con la categoría \"yes\" o \"no\" en caso de no tener algún efecto sobre el tumor.\n",
        "\n",
        "\n",
        "La columna \"treatment\" indica el tratamiento que recibió el hámster.\n",
        "\n",
        "\n",
        "### Detalles\n",
        "Los tratamientos de etil_celulosa y etanol_puro consistían en aproximadamente una cuarta parte del volumen de los tumores, mientras que el tratamiento de etanol_puro_16x era 16 veces mayor, es decir, unas 4 veces el tamaño de los tumores.\n",
        "\n",
        "### Fuente\n",
        "Morhard R, et al. 2017. Desarrollo de la ablación mejorada con etanol como alternativa a la cirugía en el tratamiento de tumores sólidos superficiales.\n",
        "\n",
        "### Asignación\n",
        "1) ¿Cómo se presentan los datos? <br>\n",
        "\n",
        ",,, los datos esta presentados categoricamente\n",
        "\n",
        "\n",
        "2) ¿Cuántas observaciones tiene el conjunto de datos? <br>\n",
        "\n",
        ",,, el conjunto de datos tiene 24 observaciones\n",
        "\n",
        "3) ¿Cuántas variables tiene el conjunto de datos y cómo se llaman? <br>\n",
        "\n",
        ",,,tiene tres varibales\n",
        "1. ethyl_celluose\n",
        "2. pure_ethanol\n",
        "3. pure_ethanol_16x\n",
        "\n",
        "\n",
        "4) Crear una tabla de contigencia que represente los totales por tratamiento. Calcular la frecuencia relativa de cada uno de estos experimentos y su éxito (puede usar los códigos revisados o hacerlo manualmente). <br>\n",
        "\n",
        "\n",
        "5) Realice una explicación escrita sobre los resultados obtenidos (tipo de estudio, siginficado de los resultados, generalizable, etc.). Puede llegar a alguna conclusión con los datos presentados? Sea lo más explícito posible.\n",
        "\n",
        "\n",
        "\n",
        "\n"
      ],
      "metadata": {
        "id": "AFGCgCKHu7uc"
      }
    },
    {
      "cell_type": "markdown",
      "source": [
        "observación pregunta 1: no, están presentados en dos variables que son de tipo categóricas, donde cada una aparece en cada columna\n",
        "\n",
        "observación pregunta 2: no, esos no son los nombres de las variables. Ver observación punto 1."
      ],
      "metadata": {
        "id": "qwgTzkQy0oK6"
      }
    },
    {
      "cell_type": "code",
      "source": [
        "ethanol"
      ],
      "metadata": {
        "id": "lq-H3b2cQJqX",
        "outputId": "4236c415-5f06-4e2a-a687-38406b62c2a9",
        "colab": {
          "base_uri": "https://localhost:8080/",
          "height": 850
        }
      },
      "execution_count": null,
      "outputs": [
        {
          "output_type": "display_data",
          "data": {
            "text/html": [
              "<table class=\"dataframe\">\n",
              "<caption>A tibble: 24 × 2</caption>\n",
              "<thead>\n",
              "\t<tr><th scope=col>treatment</th><th scope=col>regress</th></tr>\n",
              "\t<tr><th scope=col>&lt;fct&gt;</th><th scope=col>&lt;fct&gt;</th></tr>\n",
              "</thead>\n",
              "<tbody>\n",
              "\t<tr><td>pure_ethanol_16x</td><td>yes</td></tr>\n",
              "\t<tr><td>pure_ethanol_16x</td><td>yes</td></tr>\n",
              "\t<tr><td>pure_ethanol_16x</td><td>yes</td></tr>\n",
              "\t<tr><td>pure_ethanol_16x</td><td>yes</td></tr>\n",
              "\t<tr><td>pure_ethanol_16x</td><td>no </td></tr>\n",
              "\t<tr><td>pure_ethanol_16x</td><td>no </td></tr>\n",
              "\t<tr><td>pure_ethanol_16x</td><td>no </td></tr>\n",
              "\t<tr><td>pure_ethanol_16x</td><td>no </td></tr>\n",
              "\t<tr><td>pure_ethanol_16x</td><td>no </td></tr>\n",
              "\t<tr><td>pure_ethanol_16x</td><td>no </td></tr>\n",
              "\t<tr><td>pure_ethanol_16x</td><td>no </td></tr>\n",
              "\t<tr><td>pure_ethanol_16x</td><td>no </td></tr>\n",
              "\t<tr><td>pure_ethanol    </td><td>no </td></tr>\n",
              "\t<tr><td>pure_ethanol    </td><td>no </td></tr>\n",
              "\t<tr><td>pure_ethanol    </td><td>no </td></tr>\n",
              "\t<tr><td>pure_ethanol    </td><td>no </td></tr>\n",
              "\t<tr><td>pure_ethanol    </td><td>no </td></tr>\n",
              "\t<tr><td>ethyl_cellulose </td><td>yes</td></tr>\n",
              "\t<tr><td>ethyl_cellulose </td><td>yes</td></tr>\n",
              "\t<tr><td>ethyl_cellulose </td><td>yes</td></tr>\n",
              "\t<tr><td>ethyl_cellulose </td><td>yes</td></tr>\n",
              "\t<tr><td>ethyl_cellulose </td><td>yes</td></tr>\n",
              "\t<tr><td>ethyl_cellulose </td><td>yes</td></tr>\n",
              "\t<tr><td>ethyl_cellulose </td><td>no </td></tr>\n",
              "</tbody>\n",
              "</table>\n"
            ],
            "text/markdown": "\nA tibble: 24 × 2\n\n| treatment &lt;fct&gt; | regress &lt;fct&gt; |\n|---|---|\n| pure_ethanol_16x | yes |\n| pure_ethanol_16x | yes |\n| pure_ethanol_16x | yes |\n| pure_ethanol_16x | yes |\n| pure_ethanol_16x | no  |\n| pure_ethanol_16x | no  |\n| pure_ethanol_16x | no  |\n| pure_ethanol_16x | no  |\n| pure_ethanol_16x | no  |\n| pure_ethanol_16x | no  |\n| pure_ethanol_16x | no  |\n| pure_ethanol_16x | no  |\n| pure_ethanol     | no  |\n| pure_ethanol     | no  |\n| pure_ethanol     | no  |\n| pure_ethanol     | no  |\n| pure_ethanol     | no  |\n| ethyl_cellulose  | yes |\n| ethyl_cellulose  | yes |\n| ethyl_cellulose  | yes |\n| ethyl_cellulose  | yes |\n| ethyl_cellulose  | yes |\n| ethyl_cellulose  | yes |\n| ethyl_cellulose  | no  |\n\n",
            "text/latex": "A tibble: 24 × 2\n\\begin{tabular}{ll}\n treatment & regress\\\\\n <fct> & <fct>\\\\\n\\hline\n\t pure\\_ethanol\\_16x & yes\\\\\n\t pure\\_ethanol\\_16x & yes\\\\\n\t pure\\_ethanol\\_16x & yes\\\\\n\t pure\\_ethanol\\_16x & yes\\\\\n\t pure\\_ethanol\\_16x & no \\\\\n\t pure\\_ethanol\\_16x & no \\\\\n\t pure\\_ethanol\\_16x & no \\\\\n\t pure\\_ethanol\\_16x & no \\\\\n\t pure\\_ethanol\\_16x & no \\\\\n\t pure\\_ethanol\\_16x & no \\\\\n\t pure\\_ethanol\\_16x & no \\\\\n\t pure\\_ethanol\\_16x & no \\\\\n\t pure\\_ethanol     & no \\\\\n\t pure\\_ethanol     & no \\\\\n\t pure\\_ethanol     & no \\\\\n\t pure\\_ethanol     & no \\\\\n\t pure\\_ethanol     & no \\\\\n\t ethyl\\_cellulose  & yes\\\\\n\t ethyl\\_cellulose  & yes\\\\\n\t ethyl\\_cellulose  & yes\\\\\n\t ethyl\\_cellulose  & yes\\\\\n\t ethyl\\_cellulose  & yes\\\\\n\t ethyl\\_cellulose  & yes\\\\\n\t ethyl\\_cellulose  & no \\\\\n\\end{tabular}\n",
            "text/plain": [
              "   treatment        regress\n",
              "1  pure_ethanol_16x yes    \n",
              "2  pure_ethanol_16x yes    \n",
              "3  pure_ethanol_16x yes    \n",
              "4  pure_ethanol_16x yes    \n",
              "5  pure_ethanol_16x no     \n",
              "6  pure_ethanol_16x no     \n",
              "7  pure_ethanol_16x no     \n",
              "8  pure_ethanol_16x no     \n",
              "9  pure_ethanol_16x no     \n",
              "10 pure_ethanol_16x no     \n",
              "11 pure_ethanol_16x no     \n",
              "12 pure_ethanol_16x no     \n",
              "13 pure_ethanol     no     \n",
              "14 pure_ethanol     no     \n",
              "15 pure_ethanol     no     \n",
              "16 pure_ethanol     no     \n",
              "17 pure_ethanol     no     \n",
              "18 ethyl_cellulose  yes    \n",
              "19 ethyl_cellulose  yes    \n",
              "20 ethyl_cellulose  yes    \n",
              "21 ethyl_cellulose  yes    \n",
              "22 ethyl_cellulose  yes    \n",
              "23 ethyl_cellulose  yes    \n",
              "24 ethyl_cellulose  no     "
            ]
          },
          "metadata": {}
        }
      ]
    },
    {
      "cell_type": "code",
      "source": [
        "table(ethanol)"
      ],
      "metadata": {
        "id": "f-TjFACwOD4w",
        "outputId": "0ca30276-a37e-49de-d01b-da4c7e0cb8b7",
        "colab": {
          "base_uri": "https://localhost:8080/",
          "height": 104
        }
      },
      "execution_count": null,
      "outputs": [
        {
          "output_type": "display_data",
          "data": {
            "text/plain": [
              "                  regress\n",
              "treatment          no yes\n",
              "  ethyl_cellulose   1   6\n",
              "  pure_ethanol      5   0\n",
              "  pure_ethanol_16x  8   4"
            ]
          },
          "metadata": {}
        }
      ]
    },
    {
      "cell_type": "code",
      "source": [
        "tbl_summary(ethanol)%>%as_kable(\n",
        ")"
      ],
      "metadata": {
        "id": "YuOLnIwHO1-3",
        "outputId": "2727dced-5e97-4a39-e7ec-437618f88b47",
        "colab": {
          "base_uri": "https://localhost:8080/",
          "height": 194
        }
      },
      "execution_count": 4,
      "outputs": [
        {
          "output_type": "display_data",
          "data": {
            "text/plain": [
              "\n",
              "\n",
              "|**Characteristic** | **N = 24** |\n",
              "|:------------------|:----------:|\n",
              "|treatment          |            |\n",
              "|ethyl_cellulose    |  7 (29%)   |\n",
              "|pure_ethanol       |  5 (21%)   |\n",
              "|pure_ethanol_16x   |  12 (50%)  |\n",
              "|regress            |  10 (42%)  |"
            ]
          },
          "metadata": {}
        }
      ]
    },
    {
      "cell_type": "code",
      "source": [
        "gtsummary::tbl_summary(ethanol,\n",
        "                       include = 'treatment',\n",
        "                       by='regress',\n",
        "                       percent='column')%>%\n",
        "                          as_kable()"
      ],
      "metadata": {
        "id": "spLiVEl0O-s6",
        "outputId": "a6258377-4f83-4c21-8578-f6aca7fa730c",
        "colab": {
          "base_uri": "https://localhost:8080/",
          "height": 176
        }
      },
      "execution_count": 5,
      "outputs": [
        {
          "output_type": "display_data",
          "data": {
            "text/plain": [
              "\n",
              "\n",
              "|**Characteristic** | **no**  N = 14 | **yes**  N = 10 |\n",
              "|:------------------|:--------------:|:---------------:|\n",
              "|treatment          |                |                 |\n",
              "|ethyl_cellulose    |    1 (7.1%)    |     6 (60%)     |\n",
              "|pure_ethanol       |    5 (36%)     |     0 (0%)      |\n",
              "|pure_ethanol_16x   |    8 (57%)     |     4 (40%)     |"
            ]
          },
          "metadata": {}
        }
      ]
    },
    {
      "cell_type": "markdown",
      "source": [
        "observación: el análisis se debía basar en la siguiente tabla y no la anterior. Analice las disferencias en el código"
      ],
      "metadata": {
        "id": "MLBP9ZYV0fVW"
      }
    },
    {
      "cell_type": "code",
      "source": [
        "gtsummary::tbl_summary(ethanol,\n",
        "                       include = 'treatment',\n",
        "                       by='regress',\n",
        "                       percent='row')%>%\n",
        "                          as_kable()"
      ],
      "metadata": {
        "id": "IwBwcAkY0c2e",
        "outputId": "c63da09a-0684-4a5e-c677-d0ba407c6b5e",
        "colab": {
          "base_uri": "https://localhost:8080/",
          "height": 176
        }
      },
      "execution_count": 6,
      "outputs": [
        {
          "output_type": "display_data",
          "data": {
            "text/plain": [
              "\n",
              "\n",
              "|**Characteristic** | **no**  N = 14 | **yes**  N = 10 |\n",
              "|:------------------|:--------------:|:---------------:|\n",
              "|treatment          |                |                 |\n",
              "|ethyl_cellulose    |    1 (14%)     |     6 (86%)     |\n",
              "|pure_ethanol       |    5 (100%)    |     0 (0%)      |\n",
              "|pure_ethanol_16x   |    8 (67%)     |     4 (33%)     |"
            ]
          },
          "metadata": {}
        }
      ]
    },
    {
      "cell_type": "markdown",
      "source": [
        "## 2) Indicadores Económicos y de Sostenibilidad para Sudáfrica.\n",
        "#### Nombre del Conjunto de Datos\n",
        "sa_gdp_elec\n",
        "\n",
        "\n",
        "### Descripción\n",
        "Incluye datos anuales sobre pib, gni, emisiones de co2, costes de puesta en marcha.\n",
        "\n",
        "### Detalles\n",
        "año: Año de recogida de los datos.\n",
        "\n",
        "access_elec: Acceso a la electricidad en porcentaje de la población.\n",
        "\n",
        "puesta en marcha: Coste de los procedimientos de creación de empresas en porcentaje de la GNI.\n",
        "\n",
        "co2: Emisión de CO2 en kt (kilotoneladas).\n",
        "\n",
        "gdp: PIB per cápita, PPA en dólares internacionales constantes de 2017.\n",
        "\n",
        "gni: GNI per cápita, PPA en dólares internacionales constantes de 2017. GNI (gross national income) es la cantidad total de dinero que ganan los ciudadanos y las empresas de un país.\n",
        "\n",
        "\n",
        "co2_kg_ppp: kg por PIB en dólares PPA de 2017.\n",
        "\n",
        "\n",
        "\n",
        "\n",
        "### Fuente\n",
        "\n",
        "World Bank I\n",
        "\n",
        "Carbon Dioxide Information Analysis Center, Environmental Sciences Division\n",
        "\n",
        "### Asignación\n",
        "1) ¿Cuántas observaciones tiene el conjunto de datos?\n",
        "\n",
        ",,, el conjunto de datos tiene 16 observaciones\n",
        "\n",
        "\n",
        "2) Indique el tipo de cada una de ls variables.\n",
        "\n",
        ",,, -year: Numérica (entero) o categórica ordinal.\n",
        "- access_elec: Numérica continua\n",
        "- startup: Numérica continua\n",
        "- co2: Numérica continua\n",
        "- gdp: Numérica continua\n",
        "- gni: Numérica continua  \n",
        "- co2_kg_ppp: Numérica continua\n",
        "\n",
        "3) Realice un histograma para la variable `co2` e indique cuántas barras recomienda aplicar para visualizar este gráfico.\n",
        "\n",
        ",,, se recomienda 6 a 12 barras para visualizarr el grafico de co2\n",
        "\n",
        "4) Explique si tiene sentido crear un histograma para la variable year\n",
        "\n",
        ",,, Un histograma no es adecuado para la variable \"year\" porque es temporal con valores únicos del 2003 al 2018. Es mejor usar gráficos de línea o series de tiempo para analizar tendencias.\n",
        "\n",
        "5) Muestre dos gráficos de dispersión entre variables que pueden estar asociadas, el tipo de relación que presenten e intente identificar cuáles pueden ser las variables explicativas y de respuesta\n",
        "\n",
        "6) ¿Puede indentificar algunas variables que resulten independientes?. Justifique\n",
        "\n",
        ",,,  las variales independientes son : Gni Y Co2_Kg_ppp Ambas están relacionadas con la economía\n",
        "\n",
        "7) Identifique el tipo de estudio que se revisó en esta sección\n",
        "\n",
        ",,,  Es un estudio observacional longitudinal"
      ],
      "metadata": {
        "id": "UScRJKSTQ5sN"
      }
    },
    {
      "cell_type": "markdown",
      "source": [
        "Observaviones a Indicadores Económicos y de Sostenibilidad para Sudáfrica.\n",
        "\n",
        "\n",
        "observación a respuesta de pregunta 2: el año no es una variable categórica en este caso\n",
        "\n",
        "observacvión a respuesta de pregunta 3: no es una respuesta precisa y por lo tanto no puedo dar mi apreciación\n",
        "\n",
        "observación a respuesta de pregunta 6: es incoherente la respuesta \"son independientes porque están relacionadas\"\n",
        "\n"
      ],
      "metadata": {
        "id": "oEyU--R22UdU"
      }
    },
    {
      "cell_type": "code",
      "source": [
        "sa_gdp_elec"
      ],
      "metadata": {
        "id": "CBSzQV7-aeuk",
        "outputId": "59c4f10c-1468-4840-ba93-484a9c4e4657",
        "colab": {
          "base_uri": "https://localhost:8080/",
          "height": 599
        }
      },
      "execution_count": null,
      "outputs": [
        {
          "output_type": "display_data",
          "data": {
            "text/html": [
              "<table class=\"dataframe\">\n",
              "<caption>A tibble: 16 × 7</caption>\n",
              "<thead>\n",
              "\t<tr><th scope=col>year</th><th scope=col>access_elec</th><th scope=col>startup</th><th scope=col>co2</th><th scope=col>gdp</th><th scope=col>gni</th><th scope=col>co2_kg_ppp</th></tr>\n",
              "\t<tr><th scope=col>&lt;dbl&gt;</th><th scope=col>&lt;dbl&gt;</th><th scope=col>&lt;dbl&gt;</th><th scope=col>&lt;dbl&gt;</th><th scope=col>&lt;dbl&gt;</th><th scope=col>&lt;dbl&gt;</th><th scope=col>&lt;dbl&gt;</th></tr>\n",
              "</thead>\n",
              "<tbody>\n",
              "\t<tr><td>2003</td><td>78.8</td><td>9.4</td><td>353110</td><td>10646.83</td><td>10388.18</td><td>0.7098952</td></tr>\n",
              "\t<tr><td>2004</td><td>80.9</td><td>9.1</td><td>379970</td><td>10997.01</td><td>10807.17</td><td>0.7306183</td></tr>\n",
              "\t<tr><td>2005</td><td>80.8</td><td>8.6</td><td>377640</td><td>11434.92</td><td>11233.35</td><td>0.6897401</td></tr>\n",
              "\t<tr><td>2006</td><td>80.7</td><td>6.9</td><td>379560</td><td>11924.07</td><td>11711.35</td><td>0.6564602</td></tr>\n",
              "\t<tr><td>2007</td><td>82.0</td><td>7.1</td><td>396900</td><td>12402.05</td><td>12010.29</td><td>0.6515254</td></tr>\n",
              "\t<tr><td>2008</td><td>81.9</td><td>6.0</td><td>426560</td><td>12628.20</td><td>12251.73</td><td>0.6785602</td></tr>\n",
              "\t<tr><td>2009</td><td>82.6</td><td>5.9</td><td>404020</td><td>12262.14</td><td>11999.96</td><td>0.6527439</td></tr>\n",
              "\t<tr><td>2010</td><td>82.9</td><td>6.0</td><td>425110</td><td>12452.34</td><td>12195.42</td><td>0.6665559</td></tr>\n",
              "\t<tr><td>2011</td><td>83.6</td><td>0.3</td><td>409120</td><td>12666.71</td><td>12346.55</td><td>0.6210867</td></tr>\n",
              "\t<tr><td>2012</td><td>85.3</td><td>0.3</td><td>426710</td><td>12743.94</td><td>12404.11</td><td>0.6337627</td></tr>\n",
              "\t<tr><td>2013</td><td>85.2</td><td>0.3</td><td>436870</td><td>12852.78</td><td>12523.90</td><td>0.6331184</td></tr>\n",
              "\t<tr><td>2014</td><td>86.0</td><td>0.3</td><td>447980</td><td>12884.48</td><td>12549.90</td><td>0.6374456</td></tr>\n",
              "\t<tr><td>2015</td><td>85.3</td><td>0.3</td><td>424880</td><td>12840.04</td><td>12528.09</td><td>0.5974440</td></tr>\n",
              "\t<tr><td>2016</td><td>84.2</td><td>0.2</td><td>425180</td><td>12702.92</td><td>12355.72</td><td>0.5954893</td></tr>\n",
              "\t<tr><td>2017</td><td>84.4</td><td>0.2</td><td>435140</td><td>12701.35</td><td>12320.43</td><td>0.6009385</td></tr>\n",
              "\t<tr><td>2018</td><td>84.7</td><td>0.2</td><td>433250</td><td>12627.93</td><td>12229.11</td><td>0.5936559</td></tr>\n",
              "</tbody>\n",
              "</table>\n"
            ],
            "text/markdown": "\nA tibble: 16 × 7\n\n| year &lt;dbl&gt; | access_elec &lt;dbl&gt; | startup &lt;dbl&gt; | co2 &lt;dbl&gt; | gdp &lt;dbl&gt; | gni &lt;dbl&gt; | co2_kg_ppp &lt;dbl&gt; |\n|---|---|---|---|---|---|---|\n| 2003 | 78.8 | 9.4 | 353110 | 10646.83 | 10388.18 | 0.7098952 |\n| 2004 | 80.9 | 9.1 | 379970 | 10997.01 | 10807.17 | 0.7306183 |\n| 2005 | 80.8 | 8.6 | 377640 | 11434.92 | 11233.35 | 0.6897401 |\n| 2006 | 80.7 | 6.9 | 379560 | 11924.07 | 11711.35 | 0.6564602 |\n| 2007 | 82.0 | 7.1 | 396900 | 12402.05 | 12010.29 | 0.6515254 |\n| 2008 | 81.9 | 6.0 | 426560 | 12628.20 | 12251.73 | 0.6785602 |\n| 2009 | 82.6 | 5.9 | 404020 | 12262.14 | 11999.96 | 0.6527439 |\n| 2010 | 82.9 | 6.0 | 425110 | 12452.34 | 12195.42 | 0.6665559 |\n| 2011 | 83.6 | 0.3 | 409120 | 12666.71 | 12346.55 | 0.6210867 |\n| 2012 | 85.3 | 0.3 | 426710 | 12743.94 | 12404.11 | 0.6337627 |\n| 2013 | 85.2 | 0.3 | 436870 | 12852.78 | 12523.90 | 0.6331184 |\n| 2014 | 86.0 | 0.3 | 447980 | 12884.48 | 12549.90 | 0.6374456 |\n| 2015 | 85.3 | 0.3 | 424880 | 12840.04 | 12528.09 | 0.5974440 |\n| 2016 | 84.2 | 0.2 | 425180 | 12702.92 | 12355.72 | 0.5954893 |\n| 2017 | 84.4 | 0.2 | 435140 | 12701.35 | 12320.43 | 0.6009385 |\n| 2018 | 84.7 | 0.2 | 433250 | 12627.93 | 12229.11 | 0.5936559 |\n\n",
            "text/latex": "A tibble: 16 × 7\n\\begin{tabular}{lllllll}\n year & access\\_elec & startup & co2 & gdp & gni & co2\\_kg\\_ppp\\\\\n <dbl> & <dbl> & <dbl> & <dbl> & <dbl> & <dbl> & <dbl>\\\\\n\\hline\n\t 2003 & 78.8 & 9.4 & 353110 & 10646.83 & 10388.18 & 0.7098952\\\\\n\t 2004 & 80.9 & 9.1 & 379970 & 10997.01 & 10807.17 & 0.7306183\\\\\n\t 2005 & 80.8 & 8.6 & 377640 & 11434.92 & 11233.35 & 0.6897401\\\\\n\t 2006 & 80.7 & 6.9 & 379560 & 11924.07 & 11711.35 & 0.6564602\\\\\n\t 2007 & 82.0 & 7.1 & 396900 & 12402.05 & 12010.29 & 0.6515254\\\\\n\t 2008 & 81.9 & 6.0 & 426560 & 12628.20 & 12251.73 & 0.6785602\\\\\n\t 2009 & 82.6 & 5.9 & 404020 & 12262.14 & 11999.96 & 0.6527439\\\\\n\t 2010 & 82.9 & 6.0 & 425110 & 12452.34 & 12195.42 & 0.6665559\\\\\n\t 2011 & 83.6 & 0.3 & 409120 & 12666.71 & 12346.55 & 0.6210867\\\\\n\t 2012 & 85.3 & 0.3 & 426710 & 12743.94 & 12404.11 & 0.6337627\\\\\n\t 2013 & 85.2 & 0.3 & 436870 & 12852.78 & 12523.90 & 0.6331184\\\\\n\t 2014 & 86.0 & 0.3 & 447980 & 12884.48 & 12549.90 & 0.6374456\\\\\n\t 2015 & 85.3 & 0.3 & 424880 & 12840.04 & 12528.09 & 0.5974440\\\\\n\t 2016 & 84.2 & 0.2 & 425180 & 12702.92 & 12355.72 & 0.5954893\\\\\n\t 2017 & 84.4 & 0.2 & 435140 & 12701.35 & 12320.43 & 0.6009385\\\\\n\t 2018 & 84.7 & 0.2 & 433250 & 12627.93 & 12229.11 & 0.5936559\\\\\n\\end{tabular}\n",
            "text/plain": [
              "   year access_elec startup co2    gdp      gni      co2_kg_ppp\n",
              "1  2003 78.8        9.4     353110 10646.83 10388.18 0.7098952 \n",
              "2  2004 80.9        9.1     379970 10997.01 10807.17 0.7306183 \n",
              "3  2005 80.8        8.6     377640 11434.92 11233.35 0.6897401 \n",
              "4  2006 80.7        6.9     379560 11924.07 11711.35 0.6564602 \n",
              "5  2007 82.0        7.1     396900 12402.05 12010.29 0.6515254 \n",
              "6  2008 81.9        6.0     426560 12628.20 12251.73 0.6785602 \n",
              "7  2009 82.6        5.9     404020 12262.14 11999.96 0.6527439 \n",
              "8  2010 82.9        6.0     425110 12452.34 12195.42 0.6665559 \n",
              "9  2011 83.6        0.3     409120 12666.71 12346.55 0.6210867 \n",
              "10 2012 85.3        0.3     426710 12743.94 12404.11 0.6337627 \n",
              "11 2013 85.2        0.3     436870 12852.78 12523.90 0.6331184 \n",
              "12 2014 86.0        0.3     447980 12884.48 12549.90 0.6374456 \n",
              "13 2015 85.3        0.3     424880 12840.04 12528.09 0.5974440 \n",
              "14 2016 84.2        0.2     425180 12702.92 12355.72 0.5954893 \n",
              "15 2017 84.4        0.2     435140 12701.35 12320.43 0.6009385 \n",
              "16 2018 84.7        0.2     433250 12627.93 12229.11 0.5936559 "
            ]
          },
          "metadata": {}
        }
      ]
    },
    {
      "cell_type": "code",
      "source": [
        "hist(co2,breaks=6)\n"
      ],
      "metadata": {
        "id": "NMShUklVUrGn",
        "outputId": "d03a73c6-9386-4089-f341-29db36ae7c12",
        "colab": {
          "base_uri": "https://localhost:8080/",
          "height": 1000
        }
      },
      "execution_count": 8,
      "outputs": [
        {
          "output_type": "display_data",
          "data": {
            "text/html": [
              "<table class=\"dataframe\">\n",
              "<caption>A Time Series: 39 × 12</caption>\n",
              "<thead>\n",
              "\t<tr><th></th><th scope=col>Jan</th><th scope=col>Feb</th><th scope=col>Mar</th><th scope=col>Apr</th><th scope=col>May</th><th scope=col>Jun</th><th scope=col>Jul</th><th scope=col>Aug</th><th scope=col>Sep</th><th scope=col>Oct</th><th scope=col>Nov</th><th scope=col>Dec</th></tr>\n",
              "</thead>\n",
              "<tbody>\n",
              "\t<tr><th scope=row>1959</th><td>315.42</td><td>316.31</td><td>316.50</td><td>317.56</td><td>318.13</td><td>318.00</td><td>316.39</td><td>314.65</td><td>313.68</td><td>313.18</td><td>314.66</td><td>315.43</td></tr>\n",
              "\t<tr><th scope=row>1960</th><td>316.27</td><td>316.81</td><td>317.42</td><td>318.87</td><td>319.87</td><td>319.43</td><td>318.01</td><td>315.74</td><td>314.00</td><td>313.68</td><td>314.84</td><td>316.03</td></tr>\n",
              "\t<tr><th scope=row>1961</th><td>316.73</td><td>317.54</td><td>318.38</td><td>319.31</td><td>320.42</td><td>319.61</td><td>318.42</td><td>316.63</td><td>314.83</td><td>315.16</td><td>315.94</td><td>316.85</td></tr>\n",
              "\t<tr><th scope=row>1962</th><td>317.78</td><td>318.40</td><td>319.53</td><td>320.42</td><td>320.85</td><td>320.45</td><td>319.45</td><td>317.25</td><td>316.11</td><td>315.27</td><td>316.53</td><td>317.53</td></tr>\n",
              "\t<tr><th scope=row>1963</th><td>318.58</td><td>318.92</td><td>319.70</td><td>321.22</td><td>322.08</td><td>321.31</td><td>319.58</td><td>317.61</td><td>316.05</td><td>315.83</td><td>316.91</td><td>318.20</td></tr>\n",
              "\t<tr><th scope=row>1964</th><td>319.41</td><td>320.07</td><td>320.74</td><td>321.40</td><td>322.06</td><td>321.73</td><td>320.27</td><td>318.54</td><td>316.54</td><td>316.71</td><td>317.53</td><td>318.55</td></tr>\n",
              "\t<tr><th scope=row>1965</th><td>319.27</td><td>320.28</td><td>320.73</td><td>321.97</td><td>322.00</td><td>321.71</td><td>321.05</td><td>318.71</td><td>317.66</td><td>317.14</td><td>318.70</td><td>319.25</td></tr>\n",
              "\t<tr><th scope=row>1966</th><td>320.46</td><td>321.43</td><td>322.23</td><td>323.54</td><td>323.91</td><td>323.59</td><td>322.24</td><td>320.20</td><td>318.48</td><td>317.94</td><td>319.63</td><td>320.87</td></tr>\n",
              "\t<tr><th scope=row>1967</th><td>322.17</td><td>322.34</td><td>322.88</td><td>324.25</td><td>324.83</td><td>323.93</td><td>322.38</td><td>320.76</td><td>319.10</td><td>319.24</td><td>320.56</td><td>321.80</td></tr>\n",
              "\t<tr><th scope=row>1968</th><td>322.40</td><td>322.99</td><td>323.73</td><td>324.86</td><td>325.40</td><td>325.20</td><td>323.98</td><td>321.95</td><td>320.18</td><td>320.09</td><td>321.16</td><td>322.74</td></tr>\n",
              "\t<tr><th scope=row>1969</th><td>323.83</td><td>324.26</td><td>325.47</td><td>326.50</td><td>327.21</td><td>326.54</td><td>325.72</td><td>323.50</td><td>322.22</td><td>321.62</td><td>322.69</td><td>323.95</td></tr>\n",
              "\t<tr><th scope=row>1970</th><td>324.89</td><td>325.82</td><td>326.77</td><td>327.97</td><td>327.91</td><td>327.50</td><td>326.18</td><td>324.53</td><td>322.93</td><td>322.90</td><td>323.85</td><td>324.96</td></tr>\n",
              "\t<tr><th scope=row>1971</th><td>326.01</td><td>326.51</td><td>327.01</td><td>327.62</td><td>328.76</td><td>328.40</td><td>327.20</td><td>325.27</td><td>323.20</td><td>323.40</td><td>324.63</td><td>325.85</td></tr>\n",
              "\t<tr><th scope=row>1972</th><td>326.60</td><td>327.47</td><td>327.58</td><td>329.56</td><td>329.90</td><td>328.92</td><td>327.88</td><td>326.16</td><td>324.68</td><td>325.04</td><td>326.34</td><td>327.39</td></tr>\n",
              "\t<tr><th scope=row>1973</th><td>328.37</td><td>329.40</td><td>330.14</td><td>331.33</td><td>332.31</td><td>331.90</td><td>330.70</td><td>329.15</td><td>327.35</td><td>327.02</td><td>327.99</td><td>328.48</td></tr>\n",
              "\t<tr><th scope=row>1974</th><td>329.18</td><td>330.55</td><td>331.32</td><td>332.48</td><td>332.92</td><td>332.08</td><td>331.01</td><td>329.23</td><td>327.27</td><td>327.21</td><td>328.29</td><td>329.41</td></tr>\n",
              "\t<tr><th scope=row>1975</th><td>330.23</td><td>331.25</td><td>331.87</td><td>333.14</td><td>333.80</td><td>333.43</td><td>331.73</td><td>329.90</td><td>328.40</td><td>328.17</td><td>329.32</td><td>330.59</td></tr>\n",
              "\t<tr><th scope=row>1976</th><td>331.58</td><td>332.39</td><td>333.33</td><td>334.41</td><td>334.71</td><td>334.17</td><td>332.89</td><td>330.77</td><td>329.14</td><td>328.78</td><td>330.14</td><td>331.52</td></tr>\n",
              "\t<tr><th scope=row>1977</th><td>332.75</td><td>333.24</td><td>334.53</td><td>335.90</td><td>336.57</td><td>336.10</td><td>334.76</td><td>332.59</td><td>331.42</td><td>330.98</td><td>332.24</td><td>333.68</td></tr>\n",
              "\t<tr><th scope=row>1978</th><td>334.80</td><td>335.22</td><td>336.47</td><td>337.59</td><td>337.84</td><td>337.72</td><td>336.37</td><td>334.51</td><td>332.60</td><td>332.38</td><td>333.75</td><td>334.78</td></tr>\n",
              "\t<tr><th scope=row>1979</th><td>336.05</td><td>336.59</td><td>337.79</td><td>338.71</td><td>339.30</td><td>339.12</td><td>337.56</td><td>335.92</td><td>333.75</td><td>333.70</td><td>335.12</td><td>336.56</td></tr>\n",
              "\t<tr><th scope=row>1980</th><td>337.84</td><td>338.19</td><td>339.91</td><td>340.60</td><td>341.29</td><td>341.00</td><td>339.39</td><td>337.43</td><td>335.72</td><td>335.84</td><td>336.93</td><td>338.04</td></tr>\n",
              "\t<tr><th scope=row>1981</th><td>339.06</td><td>340.30</td><td>341.21</td><td>342.33</td><td>342.74</td><td>342.08</td><td>340.32</td><td>338.26</td><td>336.52</td><td>336.68</td><td>338.19</td><td>339.44</td></tr>\n",
              "\t<tr><th scope=row>1982</th><td>340.57</td><td>341.44</td><td>342.53</td><td>343.39</td><td>343.96</td><td>343.18</td><td>341.88</td><td>339.65</td><td>337.81</td><td>337.69</td><td>339.09</td><td>340.32</td></tr>\n",
              "\t<tr><th scope=row>1983</th><td>341.20</td><td>342.35</td><td>342.93</td><td>344.77</td><td>345.58</td><td>345.14</td><td>343.81</td><td>342.21</td><td>339.69</td><td>339.82</td><td>340.98</td><td>342.82</td></tr>\n",
              "\t<tr><th scope=row>1984</th><td>343.52</td><td>344.33</td><td>345.11</td><td>346.88</td><td>347.25</td><td>346.62</td><td>345.22</td><td>343.11</td><td>340.90</td><td>341.18</td><td>342.80</td><td>344.04</td></tr>\n",
              "\t<tr><th scope=row>1985</th><td>344.79</td><td>345.82</td><td>347.25</td><td>348.17</td><td>348.74</td><td>348.07</td><td>346.38</td><td>344.51</td><td>342.92</td><td>342.62</td><td>344.06</td><td>345.38</td></tr>\n",
              "\t<tr><th scope=row>1986</th><td>346.11</td><td>346.78</td><td>347.68</td><td>349.37</td><td>350.03</td><td>349.37</td><td>347.76</td><td>345.73</td><td>344.68</td><td>343.99</td><td>345.48</td><td>346.72</td></tr>\n",
              "\t<tr><th scope=row>1987</th><td>347.84</td><td>348.29</td><td>349.23</td><td>350.80</td><td>351.66</td><td>351.07</td><td>349.33</td><td>347.92</td><td>346.27</td><td>346.18</td><td>347.64</td><td>348.78</td></tr>\n",
              "\t<tr><th scope=row>1988</th><td>350.25</td><td>351.54</td><td>352.05</td><td>353.41</td><td>354.04</td><td>353.62</td><td>352.22</td><td>350.27</td><td>348.55</td><td>348.72</td><td>349.91</td><td>351.18</td></tr>\n",
              "\t<tr><th scope=row>1989</th><td>352.60</td><td>352.92</td><td>353.53</td><td>355.26</td><td>355.52</td><td>354.97</td><td>353.75</td><td>351.52</td><td>349.64</td><td>349.83</td><td>351.14</td><td>352.37</td></tr>\n",
              "\t<tr><th scope=row>1990</th><td>353.50</td><td>354.55</td><td>355.23</td><td>356.04</td><td>357.00</td><td>356.07</td><td>354.67</td><td>352.76</td><td>350.82</td><td>351.04</td><td>352.69</td><td>354.07</td></tr>\n",
              "\t<tr><th scope=row>1991</th><td>354.59</td><td>355.63</td><td>357.03</td><td>358.48</td><td>359.22</td><td>358.12</td><td>356.06</td><td>353.92</td><td>352.05</td><td>352.11</td><td>353.64</td><td>354.89</td></tr>\n",
              "\t<tr><th scope=row>1992</th><td>355.88</td><td>356.63</td><td>357.72</td><td>359.07</td><td>359.58</td><td>359.17</td><td>356.94</td><td>354.92</td><td>352.94</td><td>353.23</td><td>354.09</td><td>355.33</td></tr>\n",
              "\t<tr><th scope=row>1993</th><td>356.63</td><td>357.10</td><td>358.32</td><td>359.41</td><td>360.23</td><td>359.55</td><td>357.53</td><td>355.48</td><td>353.67</td><td>353.95</td><td>355.30</td><td>356.78</td></tr>\n",
              "\t<tr><th scope=row>1994</th><td>358.34</td><td>358.89</td><td>359.95</td><td>361.25</td><td>361.67</td><td>360.94</td><td>359.55</td><td>357.49</td><td>355.84</td><td>356.00</td><td>357.59</td><td>359.05</td></tr>\n",
              "\t<tr><th scope=row>1995</th><td>359.98</td><td>361.03</td><td>361.66</td><td>363.48</td><td>363.82</td><td>363.30</td><td>361.94</td><td>359.50</td><td>358.11</td><td>357.80</td><td>359.61</td><td>360.74</td></tr>\n",
              "\t<tr><th scope=row>1996</th><td>362.09</td><td>363.29</td><td>364.06</td><td>364.76</td><td>365.45</td><td>365.01</td><td>363.70</td><td>361.54</td><td>359.51</td><td>359.65</td><td>360.80</td><td>362.38</td></tr>\n",
              "\t<tr><th scope=row>1997</th><td>363.23</td><td>364.06</td><td>364.61</td><td>366.40</td><td>366.84</td><td>365.68</td><td>364.52</td><td>362.57</td><td>360.24</td><td>360.83</td><td>362.49</td><td>364.34</td></tr>\n",
              "</tbody>\n",
              "</table>\n"
            ],
            "text/markdown": "\nA Time Series: 39 × 12\n\n| <!--/--> | Jan | Feb | Mar | Apr | May | Jun | Jul | Aug | Sep | Oct | Nov | Dec |\n|---|---|---|---|---|---|---|---|---|---|---|---|---|\n| 1959 | 315.42 | 316.31 | 316.50 | 317.56 | 318.13 | 318.00 | 316.39 | 314.65 | 313.68 | 313.18 | 314.66 | 315.43 |\n| 1960 | 316.27 | 316.81 | 317.42 | 318.87 | 319.87 | 319.43 | 318.01 | 315.74 | 314.00 | 313.68 | 314.84 | 316.03 |\n| 1961 | 316.73 | 317.54 | 318.38 | 319.31 | 320.42 | 319.61 | 318.42 | 316.63 | 314.83 | 315.16 | 315.94 | 316.85 |\n| 1962 | 317.78 | 318.40 | 319.53 | 320.42 | 320.85 | 320.45 | 319.45 | 317.25 | 316.11 | 315.27 | 316.53 | 317.53 |\n| 1963 | 318.58 | 318.92 | 319.70 | 321.22 | 322.08 | 321.31 | 319.58 | 317.61 | 316.05 | 315.83 | 316.91 | 318.20 |\n| 1964 | 319.41 | 320.07 | 320.74 | 321.40 | 322.06 | 321.73 | 320.27 | 318.54 | 316.54 | 316.71 | 317.53 | 318.55 |\n| 1965 | 319.27 | 320.28 | 320.73 | 321.97 | 322.00 | 321.71 | 321.05 | 318.71 | 317.66 | 317.14 | 318.70 | 319.25 |\n| 1966 | 320.46 | 321.43 | 322.23 | 323.54 | 323.91 | 323.59 | 322.24 | 320.20 | 318.48 | 317.94 | 319.63 | 320.87 |\n| 1967 | 322.17 | 322.34 | 322.88 | 324.25 | 324.83 | 323.93 | 322.38 | 320.76 | 319.10 | 319.24 | 320.56 | 321.80 |\n| 1968 | 322.40 | 322.99 | 323.73 | 324.86 | 325.40 | 325.20 | 323.98 | 321.95 | 320.18 | 320.09 | 321.16 | 322.74 |\n| 1969 | 323.83 | 324.26 | 325.47 | 326.50 | 327.21 | 326.54 | 325.72 | 323.50 | 322.22 | 321.62 | 322.69 | 323.95 |\n| 1970 | 324.89 | 325.82 | 326.77 | 327.97 | 327.91 | 327.50 | 326.18 | 324.53 | 322.93 | 322.90 | 323.85 | 324.96 |\n| 1971 | 326.01 | 326.51 | 327.01 | 327.62 | 328.76 | 328.40 | 327.20 | 325.27 | 323.20 | 323.40 | 324.63 | 325.85 |\n| 1972 | 326.60 | 327.47 | 327.58 | 329.56 | 329.90 | 328.92 | 327.88 | 326.16 | 324.68 | 325.04 | 326.34 | 327.39 |\n| 1973 | 328.37 | 329.40 | 330.14 | 331.33 | 332.31 | 331.90 | 330.70 | 329.15 | 327.35 | 327.02 | 327.99 | 328.48 |\n| 1974 | 329.18 | 330.55 | 331.32 | 332.48 | 332.92 | 332.08 | 331.01 | 329.23 | 327.27 | 327.21 | 328.29 | 329.41 |\n| 1975 | 330.23 | 331.25 | 331.87 | 333.14 | 333.80 | 333.43 | 331.73 | 329.90 | 328.40 | 328.17 | 329.32 | 330.59 |\n| 1976 | 331.58 | 332.39 | 333.33 | 334.41 | 334.71 | 334.17 | 332.89 | 330.77 | 329.14 | 328.78 | 330.14 | 331.52 |\n| 1977 | 332.75 | 333.24 | 334.53 | 335.90 | 336.57 | 336.10 | 334.76 | 332.59 | 331.42 | 330.98 | 332.24 | 333.68 |\n| 1978 | 334.80 | 335.22 | 336.47 | 337.59 | 337.84 | 337.72 | 336.37 | 334.51 | 332.60 | 332.38 | 333.75 | 334.78 |\n| 1979 | 336.05 | 336.59 | 337.79 | 338.71 | 339.30 | 339.12 | 337.56 | 335.92 | 333.75 | 333.70 | 335.12 | 336.56 |\n| 1980 | 337.84 | 338.19 | 339.91 | 340.60 | 341.29 | 341.00 | 339.39 | 337.43 | 335.72 | 335.84 | 336.93 | 338.04 |\n| 1981 | 339.06 | 340.30 | 341.21 | 342.33 | 342.74 | 342.08 | 340.32 | 338.26 | 336.52 | 336.68 | 338.19 | 339.44 |\n| 1982 | 340.57 | 341.44 | 342.53 | 343.39 | 343.96 | 343.18 | 341.88 | 339.65 | 337.81 | 337.69 | 339.09 | 340.32 |\n| 1983 | 341.20 | 342.35 | 342.93 | 344.77 | 345.58 | 345.14 | 343.81 | 342.21 | 339.69 | 339.82 | 340.98 | 342.82 |\n| 1984 | 343.52 | 344.33 | 345.11 | 346.88 | 347.25 | 346.62 | 345.22 | 343.11 | 340.90 | 341.18 | 342.80 | 344.04 |\n| 1985 | 344.79 | 345.82 | 347.25 | 348.17 | 348.74 | 348.07 | 346.38 | 344.51 | 342.92 | 342.62 | 344.06 | 345.38 |\n| 1986 | 346.11 | 346.78 | 347.68 | 349.37 | 350.03 | 349.37 | 347.76 | 345.73 | 344.68 | 343.99 | 345.48 | 346.72 |\n| 1987 | 347.84 | 348.29 | 349.23 | 350.80 | 351.66 | 351.07 | 349.33 | 347.92 | 346.27 | 346.18 | 347.64 | 348.78 |\n| 1988 | 350.25 | 351.54 | 352.05 | 353.41 | 354.04 | 353.62 | 352.22 | 350.27 | 348.55 | 348.72 | 349.91 | 351.18 |\n| 1989 | 352.60 | 352.92 | 353.53 | 355.26 | 355.52 | 354.97 | 353.75 | 351.52 | 349.64 | 349.83 | 351.14 | 352.37 |\n| 1990 | 353.50 | 354.55 | 355.23 | 356.04 | 357.00 | 356.07 | 354.67 | 352.76 | 350.82 | 351.04 | 352.69 | 354.07 |\n| 1991 | 354.59 | 355.63 | 357.03 | 358.48 | 359.22 | 358.12 | 356.06 | 353.92 | 352.05 | 352.11 | 353.64 | 354.89 |\n| 1992 | 355.88 | 356.63 | 357.72 | 359.07 | 359.58 | 359.17 | 356.94 | 354.92 | 352.94 | 353.23 | 354.09 | 355.33 |\n| 1993 | 356.63 | 357.10 | 358.32 | 359.41 | 360.23 | 359.55 | 357.53 | 355.48 | 353.67 | 353.95 | 355.30 | 356.78 |\n| 1994 | 358.34 | 358.89 | 359.95 | 361.25 | 361.67 | 360.94 | 359.55 | 357.49 | 355.84 | 356.00 | 357.59 | 359.05 |\n| 1995 | 359.98 | 361.03 | 361.66 | 363.48 | 363.82 | 363.30 | 361.94 | 359.50 | 358.11 | 357.80 | 359.61 | 360.74 |\n| 1996 | 362.09 | 363.29 | 364.06 | 364.76 | 365.45 | 365.01 | 363.70 | 361.54 | 359.51 | 359.65 | 360.80 | 362.38 |\n| 1997 | 363.23 | 364.06 | 364.61 | 366.40 | 366.84 | 365.68 | 364.52 | 362.57 | 360.24 | 360.83 | 362.49 | 364.34 |\n\n",
            "text/latex": "A Time Series: 39 × 12\n\\begin{tabular}{r|llllllllllll}\n  & Jan & Feb & Mar & Apr & May & Jun & Jul & Aug & Sep & Oct & Nov & Dec\\\\\n\\hline\n\t1959 & 315.42 & 316.31 & 316.50 & 317.56 & 318.13 & 318.00 & 316.39 & 314.65 & 313.68 & 313.18 & 314.66 & 315.43\\\\\n\t1960 & 316.27 & 316.81 & 317.42 & 318.87 & 319.87 & 319.43 & 318.01 & 315.74 & 314.00 & 313.68 & 314.84 & 316.03\\\\\n\t1961 & 316.73 & 317.54 & 318.38 & 319.31 & 320.42 & 319.61 & 318.42 & 316.63 & 314.83 & 315.16 & 315.94 & 316.85\\\\\n\t1962 & 317.78 & 318.40 & 319.53 & 320.42 & 320.85 & 320.45 & 319.45 & 317.25 & 316.11 & 315.27 & 316.53 & 317.53\\\\\n\t1963 & 318.58 & 318.92 & 319.70 & 321.22 & 322.08 & 321.31 & 319.58 & 317.61 & 316.05 & 315.83 & 316.91 & 318.20\\\\\n\t1964 & 319.41 & 320.07 & 320.74 & 321.40 & 322.06 & 321.73 & 320.27 & 318.54 & 316.54 & 316.71 & 317.53 & 318.55\\\\\n\t1965 & 319.27 & 320.28 & 320.73 & 321.97 & 322.00 & 321.71 & 321.05 & 318.71 & 317.66 & 317.14 & 318.70 & 319.25\\\\\n\t1966 & 320.46 & 321.43 & 322.23 & 323.54 & 323.91 & 323.59 & 322.24 & 320.20 & 318.48 & 317.94 & 319.63 & 320.87\\\\\n\t1967 & 322.17 & 322.34 & 322.88 & 324.25 & 324.83 & 323.93 & 322.38 & 320.76 & 319.10 & 319.24 & 320.56 & 321.80\\\\\n\t1968 & 322.40 & 322.99 & 323.73 & 324.86 & 325.40 & 325.20 & 323.98 & 321.95 & 320.18 & 320.09 & 321.16 & 322.74\\\\\n\t1969 & 323.83 & 324.26 & 325.47 & 326.50 & 327.21 & 326.54 & 325.72 & 323.50 & 322.22 & 321.62 & 322.69 & 323.95\\\\\n\t1970 & 324.89 & 325.82 & 326.77 & 327.97 & 327.91 & 327.50 & 326.18 & 324.53 & 322.93 & 322.90 & 323.85 & 324.96\\\\\n\t1971 & 326.01 & 326.51 & 327.01 & 327.62 & 328.76 & 328.40 & 327.20 & 325.27 & 323.20 & 323.40 & 324.63 & 325.85\\\\\n\t1972 & 326.60 & 327.47 & 327.58 & 329.56 & 329.90 & 328.92 & 327.88 & 326.16 & 324.68 & 325.04 & 326.34 & 327.39\\\\\n\t1973 & 328.37 & 329.40 & 330.14 & 331.33 & 332.31 & 331.90 & 330.70 & 329.15 & 327.35 & 327.02 & 327.99 & 328.48\\\\\n\t1974 & 329.18 & 330.55 & 331.32 & 332.48 & 332.92 & 332.08 & 331.01 & 329.23 & 327.27 & 327.21 & 328.29 & 329.41\\\\\n\t1975 & 330.23 & 331.25 & 331.87 & 333.14 & 333.80 & 333.43 & 331.73 & 329.90 & 328.40 & 328.17 & 329.32 & 330.59\\\\\n\t1976 & 331.58 & 332.39 & 333.33 & 334.41 & 334.71 & 334.17 & 332.89 & 330.77 & 329.14 & 328.78 & 330.14 & 331.52\\\\\n\t1977 & 332.75 & 333.24 & 334.53 & 335.90 & 336.57 & 336.10 & 334.76 & 332.59 & 331.42 & 330.98 & 332.24 & 333.68\\\\\n\t1978 & 334.80 & 335.22 & 336.47 & 337.59 & 337.84 & 337.72 & 336.37 & 334.51 & 332.60 & 332.38 & 333.75 & 334.78\\\\\n\t1979 & 336.05 & 336.59 & 337.79 & 338.71 & 339.30 & 339.12 & 337.56 & 335.92 & 333.75 & 333.70 & 335.12 & 336.56\\\\\n\t1980 & 337.84 & 338.19 & 339.91 & 340.60 & 341.29 & 341.00 & 339.39 & 337.43 & 335.72 & 335.84 & 336.93 & 338.04\\\\\n\t1981 & 339.06 & 340.30 & 341.21 & 342.33 & 342.74 & 342.08 & 340.32 & 338.26 & 336.52 & 336.68 & 338.19 & 339.44\\\\\n\t1982 & 340.57 & 341.44 & 342.53 & 343.39 & 343.96 & 343.18 & 341.88 & 339.65 & 337.81 & 337.69 & 339.09 & 340.32\\\\\n\t1983 & 341.20 & 342.35 & 342.93 & 344.77 & 345.58 & 345.14 & 343.81 & 342.21 & 339.69 & 339.82 & 340.98 & 342.82\\\\\n\t1984 & 343.52 & 344.33 & 345.11 & 346.88 & 347.25 & 346.62 & 345.22 & 343.11 & 340.90 & 341.18 & 342.80 & 344.04\\\\\n\t1985 & 344.79 & 345.82 & 347.25 & 348.17 & 348.74 & 348.07 & 346.38 & 344.51 & 342.92 & 342.62 & 344.06 & 345.38\\\\\n\t1986 & 346.11 & 346.78 & 347.68 & 349.37 & 350.03 & 349.37 & 347.76 & 345.73 & 344.68 & 343.99 & 345.48 & 346.72\\\\\n\t1987 & 347.84 & 348.29 & 349.23 & 350.80 & 351.66 & 351.07 & 349.33 & 347.92 & 346.27 & 346.18 & 347.64 & 348.78\\\\\n\t1988 & 350.25 & 351.54 & 352.05 & 353.41 & 354.04 & 353.62 & 352.22 & 350.27 & 348.55 & 348.72 & 349.91 & 351.18\\\\\n\t1989 & 352.60 & 352.92 & 353.53 & 355.26 & 355.52 & 354.97 & 353.75 & 351.52 & 349.64 & 349.83 & 351.14 & 352.37\\\\\n\t1990 & 353.50 & 354.55 & 355.23 & 356.04 & 357.00 & 356.07 & 354.67 & 352.76 & 350.82 & 351.04 & 352.69 & 354.07\\\\\n\t1991 & 354.59 & 355.63 & 357.03 & 358.48 & 359.22 & 358.12 & 356.06 & 353.92 & 352.05 & 352.11 & 353.64 & 354.89\\\\\n\t1992 & 355.88 & 356.63 & 357.72 & 359.07 & 359.58 & 359.17 & 356.94 & 354.92 & 352.94 & 353.23 & 354.09 & 355.33\\\\\n\t1993 & 356.63 & 357.10 & 358.32 & 359.41 & 360.23 & 359.55 & 357.53 & 355.48 & 353.67 & 353.95 & 355.30 & 356.78\\\\\n\t1994 & 358.34 & 358.89 & 359.95 & 361.25 & 361.67 & 360.94 & 359.55 & 357.49 & 355.84 & 356.00 & 357.59 & 359.05\\\\\n\t1995 & 359.98 & 361.03 & 361.66 & 363.48 & 363.82 & 363.30 & 361.94 & 359.50 & 358.11 & 357.80 & 359.61 & 360.74\\\\\n\t1996 & 362.09 & 363.29 & 364.06 & 364.76 & 365.45 & 365.01 & 363.70 & 361.54 & 359.51 & 359.65 & 360.80 & 362.38\\\\\n\t1997 & 363.23 & 364.06 & 364.61 & 366.40 & 366.84 & 365.68 & 364.52 & 362.57 & 360.24 & 360.83 & 362.49 & 364.34\\\\\n\\end{tabular}\n",
            "text/plain": [
              "     Jan    Feb    Mar    Apr    May    Jun    Jul    Aug    Sep    Oct   \n",
              "1959 315.42 316.31 316.50 317.56 318.13 318.00 316.39 314.65 313.68 313.18\n",
              "1960 316.27 316.81 317.42 318.87 319.87 319.43 318.01 315.74 314.00 313.68\n",
              "1961 316.73 317.54 318.38 319.31 320.42 319.61 318.42 316.63 314.83 315.16\n",
              "1962 317.78 318.40 319.53 320.42 320.85 320.45 319.45 317.25 316.11 315.27\n",
              "1963 318.58 318.92 319.70 321.22 322.08 321.31 319.58 317.61 316.05 315.83\n",
              "1964 319.41 320.07 320.74 321.40 322.06 321.73 320.27 318.54 316.54 316.71\n",
              "1965 319.27 320.28 320.73 321.97 322.00 321.71 321.05 318.71 317.66 317.14\n",
              "1966 320.46 321.43 322.23 323.54 323.91 323.59 322.24 320.20 318.48 317.94\n",
              "1967 322.17 322.34 322.88 324.25 324.83 323.93 322.38 320.76 319.10 319.24\n",
              "1968 322.40 322.99 323.73 324.86 325.40 325.20 323.98 321.95 320.18 320.09\n",
              "1969 323.83 324.26 325.47 326.50 327.21 326.54 325.72 323.50 322.22 321.62\n",
              "1970 324.89 325.82 326.77 327.97 327.91 327.50 326.18 324.53 322.93 322.90\n",
              "1971 326.01 326.51 327.01 327.62 328.76 328.40 327.20 325.27 323.20 323.40\n",
              "1972 326.60 327.47 327.58 329.56 329.90 328.92 327.88 326.16 324.68 325.04\n",
              "1973 328.37 329.40 330.14 331.33 332.31 331.90 330.70 329.15 327.35 327.02\n",
              "1974 329.18 330.55 331.32 332.48 332.92 332.08 331.01 329.23 327.27 327.21\n",
              "1975 330.23 331.25 331.87 333.14 333.80 333.43 331.73 329.90 328.40 328.17\n",
              "1976 331.58 332.39 333.33 334.41 334.71 334.17 332.89 330.77 329.14 328.78\n",
              "1977 332.75 333.24 334.53 335.90 336.57 336.10 334.76 332.59 331.42 330.98\n",
              "1978 334.80 335.22 336.47 337.59 337.84 337.72 336.37 334.51 332.60 332.38\n",
              "1979 336.05 336.59 337.79 338.71 339.30 339.12 337.56 335.92 333.75 333.70\n",
              "1980 337.84 338.19 339.91 340.60 341.29 341.00 339.39 337.43 335.72 335.84\n",
              "1981 339.06 340.30 341.21 342.33 342.74 342.08 340.32 338.26 336.52 336.68\n",
              "1982 340.57 341.44 342.53 343.39 343.96 343.18 341.88 339.65 337.81 337.69\n",
              "1983 341.20 342.35 342.93 344.77 345.58 345.14 343.81 342.21 339.69 339.82\n",
              "1984 343.52 344.33 345.11 346.88 347.25 346.62 345.22 343.11 340.90 341.18\n",
              "1985 344.79 345.82 347.25 348.17 348.74 348.07 346.38 344.51 342.92 342.62\n",
              "1986 346.11 346.78 347.68 349.37 350.03 349.37 347.76 345.73 344.68 343.99\n",
              "1987 347.84 348.29 349.23 350.80 351.66 351.07 349.33 347.92 346.27 346.18\n",
              "1988 350.25 351.54 352.05 353.41 354.04 353.62 352.22 350.27 348.55 348.72\n",
              "1989 352.60 352.92 353.53 355.26 355.52 354.97 353.75 351.52 349.64 349.83\n",
              "1990 353.50 354.55 355.23 356.04 357.00 356.07 354.67 352.76 350.82 351.04\n",
              "1991 354.59 355.63 357.03 358.48 359.22 358.12 356.06 353.92 352.05 352.11\n",
              "1992 355.88 356.63 357.72 359.07 359.58 359.17 356.94 354.92 352.94 353.23\n",
              "1993 356.63 357.10 358.32 359.41 360.23 359.55 357.53 355.48 353.67 353.95\n",
              "1994 358.34 358.89 359.95 361.25 361.67 360.94 359.55 357.49 355.84 356.00\n",
              "1995 359.98 361.03 361.66 363.48 363.82 363.30 361.94 359.50 358.11 357.80\n",
              "1996 362.09 363.29 364.06 364.76 365.45 365.01 363.70 361.54 359.51 359.65\n",
              "1997 363.23 364.06 364.61 366.40 366.84 365.68 364.52 362.57 360.24 360.83\n",
              "     Nov    Dec   \n",
              "1959 314.66 315.43\n",
              "1960 314.84 316.03\n",
              "1961 315.94 316.85\n",
              "1962 316.53 317.53\n",
              "1963 316.91 318.20\n",
              "1964 317.53 318.55\n",
              "1965 318.70 319.25\n",
              "1966 319.63 320.87\n",
              "1967 320.56 321.80\n",
              "1968 321.16 322.74\n",
              "1969 322.69 323.95\n",
              "1970 323.85 324.96\n",
              "1971 324.63 325.85\n",
              "1972 326.34 327.39\n",
              "1973 327.99 328.48\n",
              "1974 328.29 329.41\n",
              "1975 329.32 330.59\n",
              "1976 330.14 331.52\n",
              "1977 332.24 333.68\n",
              "1978 333.75 334.78\n",
              "1979 335.12 336.56\n",
              "1980 336.93 338.04\n",
              "1981 338.19 339.44\n",
              "1982 339.09 340.32\n",
              "1983 340.98 342.82\n",
              "1984 342.80 344.04\n",
              "1985 344.06 345.38\n",
              "1986 345.48 346.72\n",
              "1987 347.64 348.78\n",
              "1988 349.91 351.18\n",
              "1989 351.14 352.37\n",
              "1990 352.69 354.07\n",
              "1991 353.64 354.89\n",
              "1992 354.09 355.33\n",
              "1993 355.30 356.78\n",
              "1994 357.59 359.05\n",
              "1995 359.61 360.74\n",
              "1996 360.80 362.38\n",
              "1997 362.49 364.34"
            ]
          },
          "metadata": {}
        },
        {
          "output_type": "display_data",
          "data": {
            "text/plain": [
              "Plot with title “Histogram of co2”"
            ],
            "image/png": "[encoded data removed]"
          },
          "metadata": {
            "image/png": {
              "width": 420,
              "height": 420
            }
          }
        }
      ]
    },
    {
      "cell_type": "markdown",
      "source": [
        "Observación: el histograma que muesta no es del conjunto de datos indicado sino de otro que casualmente se llama `co2`"
      ],
      "metadata": {
        "id": "yg7v56bz3s9X"
      }
    },
    {
      "cell_type": "markdown",
      "source": [
        "## 3) Representación de Histogramas\n",
        "A continuación se presenta el código para generar 3 histogramas donde cada uno corresponde a un conjunto de datos distinto. Para cada uno, realizar las siguientes actividades:\n",
        "\n",
        "1) Generar el gráfico y determinar si variando la cantidad de barras mediante el parametro `breaks` puede mejorar la representación.\n",
        "\n",
        ",,, con 10 barras se puede visualizar mejor el grafico\n",
        "\n",
        "\n",
        "2) Identificar el conjunto de dato usado para generar los gráficos así como el nombre de la variable, especificando lo que representa y el tipo de variable.\n",
        "\n",
        ",,, london_murders$age y frequency son las variables\n",
        "el tipos de varibles son: london_murders$age: Variable cuantitativa (puede ser continua o discreta).\n",
        "frequency: Variable cuantitativa (generalmente discreta).\n",
        "\n",
        "3) Identifique la modalidad de la distribución, así como posibles sesgos, según su selección de cantidad de barras\n",
        "\n",
        "La distribución presenta una clara modalidad unimodal, con un único pico o valor más frecuente en torno a los 30-40 años de edad\n",
        "\n",
        "La distribución parece estar sesgada hacia la derecha (positivamente), con una cola más larga hacia los valores más altos de edad"
      ],
      "metadata": {
        "id": "6HdlC6qbZA5i"
      }
    },
    {
      "cell_type": "markdown",
      "source": [
        "Observación: Todas las respuestas anteriores no resultan coherentes ni acordes a lo solicitado razón por la cual no puedo dar ninguna recomendación"
      ],
      "metadata": {
        "id": "Qmk94oFE3-97"
      }
    },
    {
      "cell_type": "code",
      "source": [
        "hist(london_murders$age, breaks = 15)"
      ],
      "metadata": {
        "id": "HTxn5L4Bf8IS",
        "outputId": "db5a002c-d86f-4996-f37f-5d0eb9b4b624",
        "colab": {
          "base_uri": "https://localhost:8080/",
          "height": 437
        }
      },
      "execution_count": null,
      "outputs": [
        {
          "output_type": "display_data",
          "data": {
            "text/plain": [
              "Plot with title “Histogram of london_murders$age”"
            ],
            "image/png": "[encoded data removed]"
          },
          "metadata": {
            "image/png": {
              "width": 420,
              "height": 420
            }
          }
        }
      ]
    },
    {
      "cell_type": "code",
      "source": [
        "hist(london_murders$age, breaks = 10)"
      ],
      "metadata": {
        "id": "kHkJcDpZm47e",
        "outputId": "2c06bd0c-0b8b-4a5f-ba50-368c49e368c1",
        "colab": {
          "base_uri": "https://localhost:8080/",
          "height": 437
        }
      },
      "execution_count": null,
      "outputs": [
        {
          "output_type": "display_data",
          "data": {
            "text/plain": [
              "Plot with title “Histogram of london_murders$age”"
            ],
            "image/png": "[encoded data removed]"
          },
          "metadata": {
            "image/png": {
              "width": 420,
              "height": 420
            }
          }
        }
      ]
    },
    {
      "cell_type": "markdown",
      "source": [
        "#### respuestas:\n",
        "usar tantas celdas de código y texto como sea necesario"
      ],
      "metadata": {
        "id": "d1ZvALusgPG9"
      }
    },
    {
      "cell_type": "code",
      "source": [
        "hist(LAhomes$sqft)"
      ],
      "metadata": {
        "id": "vhj6X0tYgJW6",
        "outputId": "768e93f9-e862-40df-fccc-e4e6913680c6",
        "colab": {
          "base_uri": "https://localhost:8080/",
          "height": 437
        }
      },
      "execution_count": null,
      "outputs": [
        {
          "output_type": "display_data",
          "data": {
            "text/plain": [
              "Plot with title “Histogram of LAhomes$sqft”"
            ],
            "image/png": "[encoded data removed]"
          },
          "metadata": {
            "image/png": {
              "width": 420,
              "height": 420
            }
          }
        }
      ]
    },
    {
      "cell_type": "markdown",
      "source": [
        "#### respuestas:\n",
        "usar tantas celdas de código y texto como sea necesario"
      ],
      "metadata": {
        "id": "rl5dnCw4gP6m"
      }
    },
    {
      "cell_type": "markdown",
      "source": [
        "#### respuestas:\n",
        "usar tantas celdas de código y texto como sea necesario"
      ],
      "metadata": {
        "id": "3pY0E_degQvm"
      }
    },
    {
      "cell_type": "code",
      "source": [
        "hist(lego_population$pieces, breaks=50)"
      ],
      "metadata": {
        "id": "TVAJ-aHDgLaU",
        "outputId": "539b2e71-1e96-435c-cca6-c57ecf60b724",
        "colab": {
          "base_uri": "https://localhost:8080/",
          "height": 437
        }
      },
      "execution_count": null,
      "outputs": [
        {
          "output_type": "display_data",
          "data": {
            "text/plain": [
              "Plot with title “Histogram of lego_population$pieces”"
            ],
            "image/png": "[encoded data removed]"
          },
          "metadata": {
            "image/png": {
              "width": 420,
              "height": 420
            }
          }
        }
      ]
    },
    {
      "cell_type": "markdown",
      "source": [],
      "metadata": {
        "id": "8fg21MI3uQa-"
      }
    },
    {
      "cell_type": "markdown",
      "source": [
        "#### respuestas:\n",
        "usar tantas celdas de código y texto como sea necesario"
      ],
      "metadata": {
        "id": "_nqEXw2JgRcZ"
      }
    }
  ]
}