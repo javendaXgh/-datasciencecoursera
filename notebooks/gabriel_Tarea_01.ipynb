{
  "nbformat": 4,
  "nbformat_minor": 0,
  "metadata": {
    "colab": {
      "provenance": [],
      "include_colab_link": true
    },
    "kernelspec": {
      "name": "ir",
      "display_name": "R"
    },
    "language_info": {
      "name": "R"
    }
  },
  "cells": [
    {
      "cell_type": "markdown",
      "metadata": {
        "id": "view-in-github",
        "colab_type": "text"
      },
      "source": [
        "<a href=\"https://colab.research.google.com/github/javendaXgh/-datasciencecoursera/blob/master/notebooks/gabriel_Tarea_01.ipynb\" target=\"_parent\"><img src=\"https://colab.research.google.com/assets/colab-badge.svg\" alt=\"Open In Colab\"/></a>"
      ]
    },
    {
      "cell_type": "markdown",
      "source": [],
      "metadata": {
        "id": "7Th9oGlNX2Q2"
      }
    },
    {
      "cell_type": "markdown",
      "source": [
        "# Indique su nombre y cédula\n",
        "## Nombre: Gabriel Carrillo\n",
        "## Cédula: 28.448.377"
      ],
      "metadata": {
        "id": "34InJY_Dm0VI"
      }
    },
    {
      "cell_type": "markdown",
      "source": [
        "## Estadística I, Tarea 01\n",
        "A continuación hay una serie de ejercicios que debe completar. Algunos de los códigos ya están vaciados para que se facilite realizar estar tarea.\n",
        "\n",
        "Se recomienda para cada uno de los conjuntos de datos a trabajar, revise los datos que contienen, así como también usar las funciones de ayuda `?` obtener información sobre los mismos y de esta manera lograr facilitar la comprensión sobre los datos a trabajar."
      ],
      "metadata": {
        "id": "wTWvm2zmmzSQ"
      }
    },
    {
      "cell_type": "markdown",
      "source": [
        "#### Recomendaciones\n",
        "Usar funciones apropiadas para obtener los valores solicitados. Revise los ejercicios de codificación anteriormente presentados en el curso, las láminas, así como el libro Open Intro Stats. <br>\n",
        "\n",
        "Si realiza algún cálculo manualmente deberá añadir las celdas de código con tales cálculo, tantas como sea necesario.\n",
        "\n",
        "En cada una de las celdas de código, añada comentarios con el símbolo numeral (#) al inicio de la celda para indicar los procedimientos realizados.\n",
        "\n",
        "Recuerde cuidar la redacción y ortografía en la información que presente.\n",
        "\n",
        "En caso de tener alguna duda sobre los procedimientos a seguir, usar el grupo de whatsapp.\n",
        "\n",
        "Se recuerda que la terea debe ser realizada de forma individual."
      ],
      "metadata": {
        "id": "r1bD-Uq3WEo4"
      }
    },
    {
      "cell_type": "code",
      "source": [
        "# instalar y cargar paquetes con los que se trabajará. No modificar esta celda\n",
        "install.packages ('openintro')\n",
        "install.packages ('gtsummary')\n",
        "library ('openintro')\n",
        "library ('gtsummary')\n",
        "library ('dplyr')\n"
      ],
      "metadata": {
        "id": "xDhrUG1VYUmQ",
        "outputId": "8c7edd2a-043d-4ea9-fa2a-fc6798a24848",
        "colab": {
          "base_uri": "https://localhost:8080/"
        }
      },
      "execution_count": 1,
      "outputs": [
        {
          "output_type": "stream",
          "name": "stderr",
          "text": [
            "Installing package into ‘/usr/local/lib/R/site-library’\n",
            "(as ‘lib’ is unspecified)\n",
            "\n",
            "also installing the dependencies ‘airports’, ‘cherryblossom’, ‘usdata’\n",
            "\n",
            "\n",
            "Installing package into ‘/usr/local/lib/R/site-library’\n",
            "(as ‘lib’ is unspecified)\n",
            "\n",
            "also installing the dependencies ‘V8’, ‘litedown’, ‘reactR’, ‘bigD’, ‘bitops’, ‘juicyjuice’, ‘markdown’, ‘reactable’, ‘cards’, ‘gt’\n",
            "\n",
            "\n",
            "Loading required package: airports\n",
            "\n",
            "Loading required package: cherryblossom\n",
            "\n",
            "Loading required package: usdata\n",
            "\n",
            "\n",
            "Attaching package: ‘dplyr’\n",
            "\n",
            "\n",
            "The following objects are masked from ‘package:stats’:\n",
            "\n",
            "    filter, lag\n",
            "\n",
            "\n",
            "The following objects are masked from ‘package:base’:\n",
            "\n",
            "    intersect, setdiff, setequal, union\n",
            "\n",
            "\n"
          ]
        }
      ]
    },
    {
      "cell_type": "markdown",
      "source": [
        "## 1) Tratamiento de tumores con etanol\n",
        "\n",
        "\n",
        "### Nombre del conjunto de datos\n",
        "ethanol\n",
        "\n",
        "### Descripción\n",
        "Experimento en el que se probaron 3 tratamientos diferentes de etanol para el tratamiento de tumores de cáncer oral en hámsters.\n",
        "\n",
        "La columna \"regress\" especifica si el tratamiento tuvo efecto con la categoría \"yes\" o \"no\" en caso de no tener algún efecto sobre el tumor.\n",
        "\n",
        "\n",
        "La columna \"treatment\" indica el tratamiento que recibió el hámster.\n",
        "\n",
        "\n",
        "### Detalles\n",
        "Los tratamientos de etil_celulosa y etanol_puro consistían en aproximadamente una cuarta parte del volumen de los tumores, mientras que el tratamiento de etanol_puro_16x era 16 veces mayor, es decir, unas 4 veces el tamaño de los tumores.\n",
        "\n",
        "### Fuente\n",
        "Morhard R, et al. 2017. Desarrollo de la ablación mejorada con etanol como alternativa a la cirugía en el tratamiento de tumores sólidos superficiales.\n",
        "\n",
        "### Asignación\n",
        "1) ¿Cómo se presentan los datos? <br>\n",
        "\n",
        "2) ¿Cuántas observaciones tiene el conjunto de datos? <br>\n",
        "3) ¿Cuántas variables tiene el conjunto de datos y cómo se llaman? <br>\n",
        "4) Crear una tabla de contigencia que represente los totales por tratamiento. Calcular la frecuencia relativa de cada uno de estos experimentos y su éxito (puede usar los códigos revisados o hacerlo manualmente). <br>\n",
        "5) Realice una explicación escrita sobre los resultados obtenidos (tipo de estudio, siginficado de los resultados, generalizable, etc.). Puede llegar a alguna conclusión con los datos presentados? Sea lo más explícito posible."
      ],
      "metadata": {
        "id": "AFGCgCKHu7uc"
      }
    },
    {
      "cell_type": "code",
      "source": [
        "Repuesta 5) podemos observar un estudio experimental, los resultados adquiridos nos ofrecen una respuesta sobre los tratamientos que hicieron un efecto y cuáles no, es importante reforzar que el estudio planteado nos habla de que si hizo algún efecto no que si fue positivo o negativo, así que teniendo en cuenta eso, podemos observar desde la tabla de contingencia que el mayor porcentaje de el tratamiento que si hizo efecto fue etilcelulosa con 60%"
      ],
      "metadata": {
        "id": "dfWwlzk_zXdD"
      },
      "execution_count": null,
      "outputs": []
    },
    {
      "cell_type": "markdown",
      "source": [
        "observación: para indicar algunas de las respuestas se debían usar celdas de texto. No las de código que fue las que usó.\n",
        "\n",
        "Un poco de orden al responder, ayuda a comprender mejor el ejercicio.\n",
        "\n",
        "Observación Respuesta 5: no entiendo en casi nada lo que está descrito en su respuesta. Mejorar redacción."
      ],
      "metadata": {
        "id": "4atuppKT66eX"
      }
    },
    {
      "cell_type": "code",
      "source": [
        "Respuesta 3) Número y nombre de las variables\n",
        "Hay 2 variables:\n",
        "- **`treatment`** (tratamiento aplicado).\n",
        "- **`regress`** (efectividad del tratamiento)."
      ],
      "metadata": {
        "id": "VFR5Fa6UTKkr"
      },
      "execution_count": null,
      "outputs": []
    },
    {
      "cell_type": "code",
      "source": [
        "Respuesta 2) Número de observaciones\n",
        "El conjunto de datos tiene 24 observaciones("
      ],
      "metadata": {
        "id": "O9zyqSnYQ9b5"
      },
      "execution_count": null,
      "outputs": []
    },
    {
      "cell_type": "code",
      "source": [
        "gtsummary::tbl_summary(ethanol,\n",
        "                       include = 'treatment',\n",
        "                       by='regress',\n",
        "                       percent='column')%>%\n",
        "                          as_kable()"
      ],
      "metadata": {
        "id": "TJYnfKx8QOfl",
        "outputId": "0f3f5c8b-7132-4eb2-d9d6-bb57485c992b",
        "colab": {
          "base_uri": "https://localhost:8080/",
          "height": 260
        }
      },
      "execution_count": null,
      "outputs": [
        {
          "output_type": "display_data",
          "data": {
            "text/plain": [
              "\n",
              "\n",
              "|**Characteristic** | **no**  N = 14 | **yes**  N = 10 |\n",
              "|:------------------|:--------------:|:---------------:|\n",
              "|treatment          |                |                 |\n",
              "|ethyl_cellulose    |    1 (7.1%)    |     6 (60%)     |\n",
              "|pure_ethanol       |    5 (36%)     |     0 (0%)      |\n",
              "|pure_ethanol_16x   |    8 (57%)     |     4 (40%)     |"
            ]
          },
          "metadata": {}
        }
      ]
    },
    {
      "cell_type": "markdown",
      "source": [
        "observación: el código a ejecutar, para ver los resultados solicitados, es el siguiente."
      ],
      "metadata": {
        "id": "9C1JW1WQ7lW7"
      }
    },
    {
      "cell_type": "code",
      "source": [
        "gtsummary::tbl_summary(ethanol,\n",
        "                       include = 'treatment',\n",
        "                       by='regress',\n",
        "                       percent='row')%>%\n",
        "                          as_kable()"
      ],
      "metadata": {
        "id": "v9D9XxcX7wcn"
      },
      "execution_count": null,
      "outputs": []
    },
    {
      "cell_type": "code",
      "source": [
        "Respuesta 1: Presentación de los datos\n",
        "Los datos están estructurados en un *data frame* con dos variables categóricas (factores):\n",
        "- `treatment`: Tipo de tratamiento aplicado (3 niveles: `pure_ethanol_16x`, `pure_ethanol`, `ethyl_cellulose`).\n",
        "- `regress`: Indica si el tumor regresó (\"yes\") o no (\"no\") tras el tratamiento.\n",
        "Cada fila corresponde a una observación individual  y su respuesta al tratamiento."
      ],
      "metadata": {
        "id": "Wk943UkcOQDT"
      },
      "execution_count": null,
      "outputs": []
    },
    {
      "cell_type": "code",
      "source": [
        "ethanol"
      ],
      "metadata": {
        "id": "YuOLnIwHO1-3",
        "outputId": "fe9ee5c4-9495-4871-c004-3f194ffd3695",
        "colab": {
          "base_uri": "https://localhost:8080/",
          "height": 851
        }
      },
      "execution_count": null,
      "outputs": [
        {
          "output_type": "display_data",
          "data": {
            "text/html": [
              "<table class=\"dataframe\">\n",
              "<caption>A tibble: 24 × 2</caption>\n",
              "<thead>\n",
              "\t<tr><th scope=col>treatment</th><th scope=col>regress</th></tr>\n",
              "\t<tr><th scope=col>&lt;fct&gt;</th><th scope=col>&lt;fct&gt;</th></tr>\n",
              "</thead>\n",
              "<tbody>\n",
              "\t<tr><td>pure_ethanol_16x</td><td>yes</td></tr>\n",
              "\t<tr><td>pure_ethanol_16x</td><td>yes</td></tr>\n",
              "\t<tr><td>pure_ethanol_16x</td><td>yes</td></tr>\n",
              "\t<tr><td>pure_ethanol_16x</td><td>yes</td></tr>\n",
              "\t<tr><td>pure_ethanol_16x</td><td>no </td></tr>\n",
              "\t<tr><td>pure_ethanol_16x</td><td>no </td></tr>\n",
              "\t<tr><td>pure_ethanol_16x</td><td>no </td></tr>\n",
              "\t<tr><td>pure_ethanol_16x</td><td>no </td></tr>\n",
              "\t<tr><td>pure_ethanol_16x</td><td>no </td></tr>\n",
              "\t<tr><td>pure_ethanol_16x</td><td>no </td></tr>\n",
              "\t<tr><td>pure_ethanol_16x</td><td>no </td></tr>\n",
              "\t<tr><td>pure_ethanol_16x</td><td>no </td></tr>\n",
              "\t<tr><td>pure_ethanol    </td><td>no </td></tr>\n",
              "\t<tr><td>pure_ethanol    </td><td>no </td></tr>\n",
              "\t<tr><td>pure_ethanol    </td><td>no </td></tr>\n",
              "\t<tr><td>pure_ethanol    </td><td>no </td></tr>\n",
              "\t<tr><td>pure_ethanol    </td><td>no </td></tr>\n",
              "\t<tr><td>ethyl_cellulose </td><td>yes</td></tr>\n",
              "\t<tr><td>ethyl_cellulose </td><td>yes</td></tr>\n",
              "\t<tr><td>ethyl_cellulose </td><td>yes</td></tr>\n",
              "\t<tr><td>ethyl_cellulose </td><td>yes</td></tr>\n",
              "\t<tr><td>ethyl_cellulose </td><td>yes</td></tr>\n",
              "\t<tr><td>ethyl_cellulose </td><td>yes</td></tr>\n",
              "\t<tr><td>ethyl_cellulose </td><td>no </td></tr>\n",
              "</tbody>\n",
              "</table>\n"
            ],
            "text/markdown": "\nA tibble: 24 × 2\n\n| treatment &lt;fct&gt; | regress &lt;fct&gt; |\n|---|---|\n| pure_ethanol_16x | yes |\n| pure_ethanol_16x | yes |\n| pure_ethanol_16x | yes |\n| pure_ethanol_16x | yes |\n| pure_ethanol_16x | no  |\n| pure_ethanol_16x | no  |\n| pure_ethanol_16x | no  |\n| pure_ethanol_16x | no  |\n| pure_ethanol_16x | no  |\n| pure_ethanol_16x | no  |\n| pure_ethanol_16x | no  |\n| pure_ethanol_16x | no  |\n| pure_ethanol     | no  |\n| pure_ethanol     | no  |\n| pure_ethanol     | no  |\n| pure_ethanol     | no  |\n| pure_ethanol     | no  |\n| ethyl_cellulose  | yes |\n| ethyl_cellulose  | yes |\n| ethyl_cellulose  | yes |\n| ethyl_cellulose  | yes |\n| ethyl_cellulose  | yes |\n| ethyl_cellulose  | yes |\n| ethyl_cellulose  | no  |\n\n",
            "text/latex": "A tibble: 24 × 2\n\\begin{tabular}{ll}\n treatment & regress\\\\\n <fct> & <fct>\\\\\n\\hline\n\t pure\\_ethanol\\_16x & yes\\\\\n\t pure\\_ethanol\\_16x & yes\\\\\n\t pure\\_ethanol\\_16x & yes\\\\\n\t pure\\_ethanol\\_16x & yes\\\\\n\t pure\\_ethanol\\_16x & no \\\\\n\t pure\\_ethanol\\_16x & no \\\\\n\t pure\\_ethanol\\_16x & no \\\\\n\t pure\\_ethanol\\_16x & no \\\\\n\t pure\\_ethanol\\_16x & no \\\\\n\t pure\\_ethanol\\_16x & no \\\\\n\t pure\\_ethanol\\_16x & no \\\\\n\t pure\\_ethanol\\_16x & no \\\\\n\t pure\\_ethanol     & no \\\\\n\t pure\\_ethanol     & no \\\\\n\t pure\\_ethanol     & no \\\\\n\t pure\\_ethanol     & no \\\\\n\t pure\\_ethanol     & no \\\\\n\t ethyl\\_cellulose  & yes\\\\\n\t ethyl\\_cellulose  & yes\\\\\n\t ethyl\\_cellulose  & yes\\\\\n\t ethyl\\_cellulose  & yes\\\\\n\t ethyl\\_cellulose  & yes\\\\\n\t ethyl\\_cellulose  & yes\\\\\n\t ethyl\\_cellulose  & no \\\\\n\\end{tabular}\n",
            "text/plain": [
              "   treatment        regress\n",
              "1  pure_ethanol_16x yes    \n",
              "2  pure_ethanol_16x yes    \n",
              "3  pure_ethanol_16x yes    \n",
              "4  pure_ethanol_16x yes    \n",
              "5  pure_ethanol_16x no     \n",
              "6  pure_ethanol_16x no     \n",
              "7  pure_ethanol_16x no     \n",
              "8  pure_ethanol_16x no     \n",
              "9  pure_ethanol_16x no     \n",
              "10 pure_ethanol_16x no     \n",
              "11 pure_ethanol_16x no     \n",
              "12 pure_ethanol_16x no     \n",
              "13 pure_ethanol     no     \n",
              "14 pure_ethanol     no     \n",
              "15 pure_ethanol     no     \n",
              "16 pure_ethanol     no     \n",
              "17 pure_ethanol     no     \n",
              "18 ethyl_cellulose  yes    \n",
              "19 ethyl_cellulose  yes    \n",
              "20 ethyl_cellulose  yes    \n",
              "21 ethyl_cellulose  yes    \n",
              "22 ethyl_cellulose  yes    \n",
              "23 ethyl_cellulose  yes    \n",
              "24 ethyl_cellulose  no     "
            ]
          },
          "metadata": {}
        }
      ]
    },
    {
      "cell_type": "markdown",
      "source": [
        "## 2) Indicadores Económicos y de Sostenibilidad para Sudáfrica.\n",
        "#### Nombre del Conjunto de Datos\n",
        "sa_gdp_elec\n",
        "\n",
        "\n",
        "### Descripción\n",
        "Incluye datos anuales sobre pib, gni, emisiones de co2, costes de puesta en marcha.\n",
        "\n",
        "### Detalles\n",
        "año: Año de recogida de los datos.\n",
        "\n",
        "access_elec: Acceso a la electricidad en porcentaje de la población.\n",
        "\n",
        "puesta en marcha: Coste de los procedimientos de creación de empresas en porcentaje de la GNI.\n",
        "\n",
        "co2: Emisión de CO2 en kt (kilotoneladas).\n",
        "\n",
        "gdp: PIB per cápita, PPA en dólares internacionales constantes de 2017.\n",
        "\n",
        "gni: GNI per cápita, PPA en dólares internacionales constantes de 2017. GNI (gross national income) es la cantidad total de dinero que ganan los ciudadanos y las empresas de un país.\n",
        "\n",
        "\n",
        "co2_kg_ppp: kg por PIB en dólares PPA de 2017.\n",
        "\n",
        "\n",
        "\n",
        "\n",
        "### Fuente\n",
        "\n",
        "World Bank I\n",
        "\n",
        "Carbon Dioxide Information Analysis Center, Environmental Sciences Division\n",
        "\n",
        "### Asignación\n",
        "1) ¿Cuántas observaciones tiene el conjunto de datos?\n",
        "\n",
        "2) Indique el tipo de cada una de ls variables.\n",
        "\n",
        "3) Realice un histograma para la variable `co2` e indique cuántas barras recomienda aplicar para visualizar este gráfico.\n",
        "\n",
        "4) Explique si tiene sentido crear un histograma para la variable year\n",
        "\n",
        "5) Muestre dos gráficos de dispersión entre variables que pueden estar asociadas, el tipo de relación que presenten e intente identificar cuáles pueden ser las variables explicativas y de respuesta\n",
        "\n",
        "6) ¿Puede indentificar algunas variables que resulten independientes?. Justifique\n",
        "\n",
        "6) Identifique el tipo de estudio que se revisó en esta sección"
      ],
      "metadata": {
        "id": "UScRJKSTQ5sN"
      }
    },
    {
      "cell_type": "code",
      "source": [
        "Repuesta 2) 2) Tipo de cada variable\n",
        "- `year`: Numérica (entero) o categórica ordinal (año).\n",
        "- `access_elec`: Numérica continua (porcentaje de acceso a electricidad).\n",
        "- `startup`: Numérica continua (coste como % del GNI).\n",
        "- `co2`: Numérica continua (kilotoneladas de CO₂).\n",
        "- `gdp`: Numérica continua (PIB per cápita en dólares PPA).\n",
        "- `gni`: Numérica continua (GNI per cápita en dólares PPA).\n",
        "- `co2_kg_ppp`: Numérica continua (kg de CO₂ por PIB en PPA)."
      ],
      "metadata": {
        "id": "JqV8JMh1Xkmm"
      },
      "execution_count": null,
      "outputs": []
    },
    {
      "cell_type": "code",
      "source": [
        "hist(co2, breaks = 6)"
      ],
      "metadata": {
        "id": "aBgEsTF0YhKt",
        "outputId": "c0d8b234-a8b9-47df-b71e-18c4403f1667",
        "colab": {
          "base_uri": "https://localhost:8080/",
          "height": 437
        }
      },
      "execution_count": null,
      "outputs": [
        {
          "output_type": "display_data",
          "data": {
            "text/plain": [
              "Plot with title “Histogram of co2”"
            ],
            "image/png": "[encoded data removed]"
          },
          "metadata": {
            "image/png": {
              "width": 420,
              "height": 420
            }
          }
        }
      ]
    },
    {
      "cell_type": "markdown",
      "source": [
        "Observación: muy llamativamente, tuvo el mismo error que otro alumno del curso. Pregunta: realizó con asistencia de alguien más esta tarea?"
      ],
      "metadata": {
        "id": "gk10Mz1c8F4z"
      }
    },
    {
      "cell_type": "code",
      "source": [
        "Respuesta 1) 16"
      ],
      "metadata": {
        "id": "JKhbcAczXfLE"
      },
      "execution_count": null,
      "outputs": []
    },
    {
      "cell_type": "code",
      "source": [
        "4) Histograma para la variable `year`\n",
        "No tiene sentido, ya que:\n",
        "- `year` es una variable temporal con valores únicos y secuenciales (2003 a 2018).\n",
        "- Un histograma mostraría frecuencias de años, pero cada año aparece solo una vez en el conjunto de datos. Es más útil analizar tendencias temporales con gráficos de línea o series de tiempo."
      ],
      "metadata": {
        "id": "xrdPycsddIDR"
      },
      "execution_count": null,
      "outputs": []
    },
    {
      "cell_type": "code",
      "source": [
        "6) Variables independientes\n",
        "`co2_kg_ppp` y `gni`: Aunque ambas están relacionadas con la economía, no hay una dependencia directa obvia (una mide CO₂ por PIB y la otra ingreso nacional)."
      ],
      "metadata": {
        "id": "AaNxPgo5fYKP"
      },
      "execution_count": null,
      "outputs": []
    },
    {
      "cell_type": "markdown",
      "source": [
        "Observación: más allá del ejercicio le pregunto: decir  \"PIB\" es lo mismo que decir el \"ingreso nacional\"????\n",
        "\n",
        "En cualquier caso, tenía que hacer un plot para estudiar posibles relaciones de dependencia entre ambas variables"
      ],
      "metadata": {
        "id": "oKlP7rE_8pYL"
      }
    },
    {
      "cell_type": "code",
      "source": [
        "plot(x=sa_gdp_elec$co2_kg_ppp, y=sa_gdp_elec$gni )"
      ],
      "metadata": {
        "id": "llcjYfQ48Wo7",
        "outputId": "d907e3c7-55c6-4600-eb51-8fbf7a3305a0",
        "colab": {
          "base_uri": "https://localhost:8080/",
          "height": 458
        }
      },
      "execution_count": 2,
      "outputs": [
        {
          "output_type": "display_data",
          "data": {
            "text/plain": [
              "plot without title"
            ],
            "image/png": "[encoded data removed]"
          },
          "metadata": {
            "image/png": {
              "width": 420,
              "height": 420
            }
          }
        }
      ]
    },
    {
      "cell_type": "code",
      "source": [
        "7) Tipo de estudio\n",
        "Es un estudio observacional longitudinal (o de serie temporal), debido a que Recopila datos de las mismas variables en múltiples años (2003-2018)."
      ],
      "metadata": {
        "id": "t_N2xUS56OxI"
      },
      "execution_count": null,
      "outputs": []
    },
    {
      "cell_type": "code",
      "source": [
        "sa_gdp_elec"
      ],
      "metadata": {
        "id": "CBSzQV7-aeuk",
        "outputId": "57046c83-65e3-4ca2-f69e-1193d32c227c",
        "colab": {
          "base_uri": "https://localhost:8080/",
          "height": 620
        }
      },
      "execution_count": null,
      "outputs": [
        {
          "output_type": "display_data",
          "data": {
            "text/html": [
              "<table class=\"dataframe\">\n",
              "<caption>A tibble: 16 × 7</caption>\n",
              "<thead>\n",
              "\t<tr><th scope=col>year</th><th scope=col>access_elec</th><th scope=col>startup</th><th scope=col>co2</th><th scope=col>gdp</th><th scope=col>gni</th><th scope=col>co2_kg_ppp</th></tr>\n",
              "\t<tr><th scope=col>&lt;dbl&gt;</th><th scope=col>&lt;dbl&gt;</th><th scope=col>&lt;dbl&gt;</th><th scope=col>&lt;dbl&gt;</th><th scope=col>&lt;dbl&gt;</th><th scope=col>&lt;dbl&gt;</th><th scope=col>&lt;dbl&gt;</th></tr>\n",
              "</thead>\n",
              "<tbody>\n",
              "\t<tr><td>2003</td><td>78.8</td><td>9.4</td><td>353110</td><td>10646.83</td><td>10388.18</td><td>0.7098952</td></tr>\n",
              "\t<tr><td>2004</td><td>80.9</td><td>9.1</td><td>379970</td><td>10997.01</td><td>10807.17</td><td>0.7306183</td></tr>\n",
              "\t<tr><td>2005</td><td>80.8</td><td>8.6</td><td>377640</td><td>11434.92</td><td>11233.35</td><td>0.6897401</td></tr>\n",
              "\t<tr><td>2006</td><td>80.7</td><td>6.9</td><td>379560</td><td>11924.07</td><td>11711.35</td><td>0.6564602</td></tr>\n",
              "\t<tr><td>2007</td><td>82.0</td><td>7.1</td><td>396900</td><td>12402.05</td><td>12010.29</td><td>0.6515254</td></tr>\n",
              "\t<tr><td>2008</td><td>81.9</td><td>6.0</td><td>426560</td><td>12628.20</td><td>12251.73</td><td>0.6785602</td></tr>\n",
              "\t<tr><td>2009</td><td>82.6</td><td>5.9</td><td>404020</td><td>12262.14</td><td>11999.96</td><td>0.6527439</td></tr>\n",
              "\t<tr><td>2010</td><td>82.9</td><td>6.0</td><td>425110</td><td>12452.34</td><td>12195.42</td><td>0.6665559</td></tr>\n",
              "\t<tr><td>2011</td><td>83.6</td><td>0.3</td><td>409120</td><td>12666.71</td><td>12346.55</td><td>0.6210867</td></tr>\n",
              "\t<tr><td>2012</td><td>85.3</td><td>0.3</td><td>426710</td><td>12743.94</td><td>12404.11</td><td>0.6337627</td></tr>\n",
              "\t<tr><td>2013</td><td>85.2</td><td>0.3</td><td>436870</td><td>12852.78</td><td>12523.90</td><td>0.6331184</td></tr>\n",
              "\t<tr><td>2014</td><td>86.0</td><td>0.3</td><td>447980</td><td>12884.48</td><td>12549.90</td><td>0.6374456</td></tr>\n",
              "\t<tr><td>2015</td><td>85.3</td><td>0.3</td><td>424880</td><td>12840.04</td><td>12528.09</td><td>0.5974440</td></tr>\n",
              "\t<tr><td>2016</td><td>84.2</td><td>0.2</td><td>425180</td><td>12702.92</td><td>12355.72</td><td>0.5954893</td></tr>\n",
              "\t<tr><td>2017</td><td>84.4</td><td>0.2</td><td>435140</td><td>12701.35</td><td>12320.43</td><td>0.6009385</td></tr>\n",
              "\t<tr><td>2018</td><td>84.7</td><td>0.2</td><td>433250</td><td>12627.93</td><td>12229.11</td><td>0.5936559</td></tr>\n",
              "</tbody>\n",
              "</table>\n"
            ],
            "text/markdown": "\nA tibble: 16 × 7\n\n| year &lt;dbl&gt; | access_elec &lt;dbl&gt; | startup &lt;dbl&gt; | co2 &lt;dbl&gt; | gdp &lt;dbl&gt; | gni &lt;dbl&gt; | co2_kg_ppp &lt;dbl&gt; |\n|---|---|---|---|---|---|---|\n| 2003 | 78.8 | 9.4 | 353110 | 10646.83 | 10388.18 | 0.7098952 |\n| 2004 | 80.9 | 9.1 | 379970 | 10997.01 | 10807.17 | 0.7306183 |\n| 2005 | 80.8 | 8.6 | 377640 | 11434.92 | 11233.35 | 0.6897401 |\n| 2006 | 80.7 | 6.9 | 379560 | 11924.07 | 11711.35 | 0.6564602 |\n| 2007 | 82.0 | 7.1 | 396900 | 12402.05 | 12010.29 | 0.6515254 |\n| 2008 | 81.9 | 6.0 | 426560 | 12628.20 | 12251.73 | 0.6785602 |\n| 2009 | 82.6 | 5.9 | 404020 | 12262.14 | 11999.96 | 0.6527439 |\n| 2010 | 82.9 | 6.0 | 425110 | 12452.34 | 12195.42 | 0.6665559 |\n| 2011 | 83.6 | 0.3 | 409120 | 12666.71 | 12346.55 | 0.6210867 |\n| 2012 | 85.3 | 0.3 | 426710 | 12743.94 | 12404.11 | 0.6337627 |\n| 2013 | 85.2 | 0.3 | 436870 | 12852.78 | 12523.90 | 0.6331184 |\n| 2014 | 86.0 | 0.3 | 447980 | 12884.48 | 12549.90 | 0.6374456 |\n| 2015 | 85.3 | 0.3 | 424880 | 12840.04 | 12528.09 | 0.5974440 |\n| 2016 | 84.2 | 0.2 | 425180 | 12702.92 | 12355.72 | 0.5954893 |\n| 2017 | 84.4 | 0.2 | 435140 | 12701.35 | 12320.43 | 0.6009385 |\n| 2018 | 84.7 | 0.2 | 433250 | 12627.93 | 12229.11 | 0.5936559 |\n\n",
            "text/latex": "A tibble: 16 × 7\n\\begin{tabular}{lllllll}\n year & access\\_elec & startup & co2 & gdp & gni & co2\\_kg\\_ppp\\\\\n <dbl> & <dbl> & <dbl> & <dbl> & <dbl> & <dbl> & <dbl>\\\\\n\\hline\n\t 2003 & 78.8 & 9.4 & 353110 & 10646.83 & 10388.18 & 0.7098952\\\\\n\t 2004 & 80.9 & 9.1 & 379970 & 10997.01 & 10807.17 & 0.7306183\\\\\n\t 2005 & 80.8 & 8.6 & 377640 & 11434.92 & 11233.35 & 0.6897401\\\\\n\t 2006 & 80.7 & 6.9 & 379560 & 11924.07 & 11711.35 & 0.6564602\\\\\n\t 2007 & 82.0 & 7.1 & 396900 & 12402.05 & 12010.29 & 0.6515254\\\\\n\t 2008 & 81.9 & 6.0 & 426560 & 12628.20 & 12251.73 & 0.6785602\\\\\n\t 2009 & 82.6 & 5.9 & 404020 & 12262.14 & 11999.96 & 0.6527439\\\\\n\t 2010 & 82.9 & 6.0 & 425110 & 12452.34 & 12195.42 & 0.6665559\\\\\n\t 2011 & 83.6 & 0.3 & 409120 & 12666.71 & 12346.55 & 0.6210867\\\\\n\t 2012 & 85.3 & 0.3 & 426710 & 12743.94 & 12404.11 & 0.6337627\\\\\n\t 2013 & 85.2 & 0.3 & 436870 & 12852.78 & 12523.90 & 0.6331184\\\\\n\t 2014 & 86.0 & 0.3 & 447980 & 12884.48 & 12549.90 & 0.6374456\\\\\n\t 2015 & 85.3 & 0.3 & 424880 & 12840.04 & 12528.09 & 0.5974440\\\\\n\t 2016 & 84.2 & 0.2 & 425180 & 12702.92 & 12355.72 & 0.5954893\\\\\n\t 2017 & 84.4 & 0.2 & 435140 & 12701.35 & 12320.43 & 0.6009385\\\\\n\t 2018 & 84.7 & 0.2 & 433250 & 12627.93 & 12229.11 & 0.5936559\\\\\n\\end{tabular}\n",
            "text/plain": [
              "   year access_elec startup co2    gdp      gni      co2_kg_ppp\n",
              "1  2003 78.8        9.4     353110 10646.83 10388.18 0.7098952 \n",
              "2  2004 80.9        9.1     379970 10997.01 10807.17 0.7306183 \n",
              "3  2005 80.8        8.6     377640 11434.92 11233.35 0.6897401 \n",
              "4  2006 80.7        6.9     379560 11924.07 11711.35 0.6564602 \n",
              "5  2007 82.0        7.1     396900 12402.05 12010.29 0.6515254 \n",
              "6  2008 81.9        6.0     426560 12628.20 12251.73 0.6785602 \n",
              "7  2009 82.6        5.9     404020 12262.14 11999.96 0.6527439 \n",
              "8  2010 82.9        6.0     425110 12452.34 12195.42 0.6665559 \n",
              "9  2011 83.6        0.3     409120 12666.71 12346.55 0.6210867 \n",
              "10 2012 85.3        0.3     426710 12743.94 12404.11 0.6337627 \n",
              "11 2013 85.2        0.3     436870 12852.78 12523.90 0.6331184 \n",
              "12 2014 86.0        0.3     447980 12884.48 12549.90 0.6374456 \n",
              "13 2015 85.3        0.3     424880 12840.04 12528.09 0.5974440 \n",
              "14 2016 84.2        0.2     425180 12702.92 12355.72 0.5954893 \n",
              "15 2017 84.4        0.2     435140 12701.35 12320.43 0.6009385 \n",
              "16 2018 84.7        0.2     433250 12627.93 12229.11 0.5936559 "
            ]
          },
          "metadata": {}
        }
      ]
    },
    {
      "cell_type": "markdown",
      "source": [
        "## 3) Representación de Histogramas\n",
        "A continuación se presenta el código para generar 3 histogramas donde cada uno corresponde a un conjunto de datos distinto. Para cada uno, realizar las siguientes actividades:\n",
        "\n",
        "1) Generar el gráfico y determinar si variando la cantidad de barras mediante el parametro `breaks` puede mejorar la representación.\n",
        "\n",
        "2) Identificar el conjunto de dato usado para generar los gráficos así como el nombre de la variable, especificando lo que representa y el tipo de variable.\n",
        "\n",
        "3) Identifique la modalidad de la distribución, así como posibles sesgos, según su selección de cantidad de barras"
      ],
      "metadata": {
        "id": "6HdlC6qbZA5i"
      }
    },
    {
      "cell_type": "code",
      "source": [
        "1) primer histograma: Cómo podemos observar en el primer histograma lo podemos visualizar de una mejor manera con 9 intervalos, Unimodal es decir que tiene un solo modo o valor que se repite con mayor frecuencia en una distribución de datos con un visible sesgo a la derecha."
      ],
      "metadata": {
        "collapsed": true,
        "id": "NG2OblhJ7tQT",
        "outputId": "b4f6b3ab-1d6c-4e1a-9f5a-a896e89b873d",
        "colab": {
          "base_uri": "https://localhost:8080/",
          "height": 124
        }
      },
      "execution_count": null,
      "outputs": [
        {
          "output_type": "error",
          "ename": "ERROR",
          "evalue": "Error in parse(text = input): <text>:1:2: unexpected ')'\n1: 1)\n     ^\n",
          "traceback": [
            "Error in parse(text = input): <text>:1:2: unexpected ')'\n1: 1)\n     ^\nTraceback:\n"
          ]
        }
      ]
    },
    {
      "cell_type": "code",
      "source": [
        "2) segundo histograma: Unimodal, un visible sesgo a la derecha es decir la media y la mediana están a la derecha de la moda, intervalos 20."
      ],
      "metadata": {
        "collapsed": true,
        "id": "_5r9DGyC8edS",
        "outputId": "3d6acaf9-8280-415d-b787-37ebc05b1272",
        "colab": {
          "base_uri": "https://localhost:8080/",
          "height": 124
        }
      },
      "execution_count": null,
      "outputs": [
        {
          "output_type": "error",
          "ename": "ERROR",
          "evalue": "Error in parse(text = input): <text>:1:2: unexpected ')'\n1: 2)\n     ^\n",
          "traceback": [
            "Error in parse(text = input): <text>:1:2: unexpected ')'\n1: 2)\n     ^\nTraceback:\n"
          ]
        }
      ]
    },
    {
      "cell_type": "code",
      "source": [
        "3) tercer histograma: Unimodal, un visible sesgo a la derecha, intervalos 20."
      ],
      "metadata": {
        "id": "XCki53LZ-DSL"
      },
      "execution_count": null,
      "outputs": []
    },
    {
      "cell_type": "code",
      "source": [
        "4) cuarto histograma: Unimodal, sesgo a la derecha, intervalos 50."
      ],
      "metadata": {
        "id": "DU272Zri-uIK"
      },
      "execution_count": null,
      "outputs": []
    },
    {
      "cell_type": "code",
      "source": [],
      "metadata": {
        "id": "ThTQdEc294Bm"
      },
      "execution_count": null,
      "outputs": []
    },
    {
      "cell_type": "markdown",
      "source": [
        "observación: ninguna de las explicaciones contiene algún tipo de análisis, más allá de decir hacia dónde se encuentra el sesgo no muestra comprensión sobre los datos y variables representados, por eso es importante asistir a clase permanentemente"
      ],
      "metadata": {
        "id": "jUIcOp0494rs"
      }
    },
    {
      "cell_type": "code",
      "source": [
        "hist(london_murders$age, breaks = 9)"
      ],
      "metadata": {
        "id": "HTxn5L4Bf8IS",
        "outputId": "9d646d1d-8316-4ffe-9d13-bb45431a7ad1",
        "colab": {
          "base_uri": "https://localhost:8080/",
          "height": 437
        }
      },
      "execution_count": null,
      "outputs": [
        {
          "output_type": "display_data",
          "data": {
            "text/plain": [
              "Plot with title “Histogram of london_murders$age”"
            ],
            "image/png": "[encoded data removed]"
          },
          "metadata": {
            "image/png": {
              "width": 420,
              "height": 420
            }
          }
        }
      ]
    },
    {
      "cell_type": "markdown",
      "source": [
        "#### respuestas:\n",
        "usar tantas celdas de código y texto como sea necesario"
      ],
      "metadata": {
        "id": "d1ZvALusgPG9"
      }
    },
    {
      "cell_type": "code",
      "source": [
        "hist(LAhomes$sqft, breaks = 30)"
      ],
      "metadata": {
        "id": "vhj6X0tYgJW6",
        "outputId": "0dcaa4e6-7540-4101-d2a6-6757b70e11f3",
        "colab": {
          "base_uri": "https://localhost:8080/",
          "height": 437
        }
      },
      "execution_count": null,
      "outputs": [
        {
          "output_type": "display_data",
          "data": {
            "text/plain": [
              "Plot with title “Histogram of LAhomes$sqft”"
            ],
            "image/png": "[encoded data removed]"
          },
          "metadata": {
            "image/png": {
              "width": 420,
              "height": 420
            }
          }
        }
      ]
    },
    {
      "cell_type": "markdown",
      "source": [
        "#### respuestas:\n",
        "usar tantas celdas de código y texto como sea necesario"
      ],
      "metadata": {
        "id": "rl5dnCw4gP6m"
      }
    },
    {
      "cell_type": "code",
      "source": [
        "hist(life_exp$income, breaks =20)"
      ],
      "metadata": {
        "id": "pVZk9-bxgKcy",
        "outputId": "10337c04-ca02-462a-ad3d-d200bbab597e",
        "colab": {
          "base_uri": "https://localhost:8080/",
          "height": 437
        }
      },
      "execution_count": null,
      "outputs": [
        {
          "output_type": "display_data",
          "data": {
            "text/plain": [
              "Plot with title “Histogram of life_exp$income”"
            ],
            "image/png": "[encoded data removed]"
          },
          "metadata": {
            "image/png": {
              "width": 420,
              "height": 420
            }
          }
        }
      ]
    },
    {
      "cell_type": "markdown",
      "source": [
        "#### respuestas:\n",
        "usar tantas celdas de código y texto como sea necesario"
      ],
      "metadata": {
        "id": "3pY0E_degQvm"
      }
    },
    {
      "cell_type": "code",
      "source": [
        "hist(lego_population$pieces, breaks=50)"
      ],
      "metadata": {
        "id": "TVAJ-aHDgLaU",
        "outputId": "1185c262-f305-47d3-bf44-f372f1da0278",
        "colab": {
          "base_uri": "https://localhost:8080/",
          "height": 437
        }
      },
      "execution_count": null,
      "outputs": [
        {
          "output_type": "display_data",
          "data": {
            "text/plain": [
              "Plot with title “Histogram of lego_population$pieces”"
            ],
            "image/png": "[encoded data removed]"
          },
          "metadata": {
            "image/png": {
              "width": 420,
              "height": 420
            }
          }
        }
      ]
    },
    {
      "cell_type": "markdown",
      "source": [
        "#### respuestas:\n",
        "usar tantas celdas de código y texto como sea necesario"
      ],
      "metadata": {
        "id": "_nqEXw2JgRcZ"
      }
    }
  ]
}